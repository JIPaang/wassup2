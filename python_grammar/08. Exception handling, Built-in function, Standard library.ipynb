{
 "cells": [
  {
   "cell_type": "markdown",
   "id": "5eb17a72",
   "metadata": {},
   "source": [
    "오류는 언제 발생하는가?\n",
    "\n",
    "먼저 존재하지 않는 파일을 사용하려고 시도했을 때 발생하는 오류이다."
   ]
  },
  {
   "cell_type": "code",
   "execution_count": null,
   "id": "4c77cfda",
   "metadata": {},
   "outputs": [],
   "source": [
    "# f = open(\"나없는파일\", 'r')\n",
    "# Traceback (most recent call last):\n",
    "#   File \"<stdin>\", line 1, in <module>\n",
    "# FileNotFoundError: [Errno 2] No such file or directory: '나없는파일'"
   ]
  },
  {
   "cell_type": "markdown",
   "id": "50f9f071",
   "metadata": {},
   "source": [
    "위 예에서 볼 수 있듯이 없는 파일을 열려고 시도하면 \n",
    "FileNotFoundError 오류가 발생한다."
   ]
  },
  {
   "cell_type": "code",
   "execution_count": null,
   "id": "3dc0de94",
   "metadata": {},
   "outputs": [],
   "source": [
    "4 / 0\n",
    "Traceback (most recent call last):\n",
    "  File \"<stdin>\", line 1, in <module>\n",
    "ZeroDivisionError: division by zero"
   ]
  },
  {
   "cell_type": "code",
   "execution_count": null,
   "id": "fbcea27b",
   "metadata": {},
   "outputs": [],
   "source": [
    "a = [1, 2, 3]\n",
    "a[3]\n",
    "Traceback (most recent call last):\n",
    "  File \"<stdin>\", line 1, in <module>\n",
    "IndexError: list index out of range"
   ]
  },
  {
   "cell_type": "markdown",
   "id": "64bd0359",
   "metadata": {},
   "source": [
    "### 오류 예외 처리 기법"
   ]
  },
  {
   "cell_type": "code",
   "execution_count": null,
   "id": "48980a64",
   "metadata": {},
   "outputs": [],
   "source": [
    "try-except 문\n",
    "\n",
    "try:\n",
    "    ...\n",
    "except [발생오류 [as 오류변수]]:\n",
    "    ..."
   ]
  },
  {
   "cell_type": "code",
   "execution_count": null,
   "id": "57694584",
   "metadata": {},
   "outputs": [],
   "source": [
    "# try-except만 쓰는 방법\n",
    "\n",
    "try:\n",
    "    ...\n",
    "except:\n",
    "    ..."
   ]
  },
  {
   "cell_type": "code",
   "execution_count": null,
   "id": "3f4ec7fa",
   "metadata": {},
   "outputs": [],
   "source": [
    "# 발생 오류만 포함한 except 문\n",
    "\n",
    "try:\n",
    "    ...\n",
    "except 발생오류:\n",
    "    ..."
   ]
  },
  {
   "cell_type": "code",
   "execution_count": null,
   "id": "c792eef9",
   "metadata": {},
   "outputs": [],
   "source": [
    "# 발생 오류와 오류 변수까지 포함한 except 문\n",
    "\n",
    "try:\n",
    "    ...\n",
    "except 발생오류 as 오류변수:\n",
    "    ..."
   ]
  },
  {
   "cell_type": "code",
   "execution_count": null,
   "id": "f68c1af2",
   "metadata": {},
   "outputs": [],
   "source": [
    "# try_except.py\n",
    "try:\n",
    "    4 / 0\n",
    "except ZeroDivisionError as e:\n",
    "    print(e)"
   ]
  },
  {
   "cell_type": "markdown",
   "id": "4883d0b6",
   "metadata": {},
   "source": [
    "### try-finally 문"
   ]
  },
  {
   "cell_type": "code",
   "execution_count": null,
   "id": "6dab7f96",
   "metadata": {},
   "outputs": [],
   "source": [
    "# try 문에는 finally 절을 사용할 수 있다. \n",
    "# finally 절은 try 문 수행 도중 예외 발생 여부에 상관없이 항상 수행된다. \n",
    "# 보통 finally 절은 사용한 리소스를 close해야 할 때 많이 사용한다.\n",
    "\n",
    "# try_finally.py\n",
    "try:\n",
    "    f = open('foo.txt', 'w')\n",
    "    # 무언가를 수행한다.\n",
    "\n",
    "    (... 생략 ...)\n",
    "\n",
    "finally:\n",
    "    f.close()  # 중간에 오류가 발생하더라도 무조건 실행된다."
   ]
  },
  {
   "cell_type": "markdown",
   "id": "601e2da7",
   "metadata": {},
   "source": [
    "### 여러 개의 오류 처리하기"
   ]
  },
  {
   "cell_type": "code",
   "execution_count": 2,
   "id": "93d2cba7",
   "metadata": {},
   "outputs": [],
   "source": [
    "try:\n",
    "    ...\n",
    "except 발생오류1:\n",
    "   ... \n",
    "except 발생오류2:\n",
    "   ..."
   ]
  },
  {
   "cell_type": "code",
   "execution_count": null,
   "id": "5c7e5a10",
   "metadata": {},
   "outputs": [],
   "source": [
    "# many_error.py\n",
    "try:\n",
    "    a = [1,2]\n",
    "    print(a[3])\n",
    "    4/0\n",
    "except ZeroDivisionError:\n",
    "    print(\"0으로 나눌 수 없습니다.\")\n",
    "except IndexError:\n",
    "    print(\"인덱싱 할 수 없습니다.\")"
   ]
  },
  {
   "cell_type": "markdown",
   "id": "f40e5fc9",
   "metadata": {},
   "source": [
    "### try-else 문"
   ]
  },
  {
   "cell_type": "code",
   "execution_count": null,
   "id": "88d8371f",
   "metadata": {},
   "outputs": [],
   "source": [
    "try:\n",
    "    ...\n",
    "except [발생오류 [as 오류변수]]:\n",
    "    ...\n",
    "else:  # 오류가 없을 경우에만 수행\n",
    "    ...\n",
    "    \n",
    "# try 문 수행 중 오류가 발생하면 except 절, \n",
    "# 오류가 발생하지 않으면 else 절이 수행된다."
   ]
  },
  {
   "cell_type": "markdown",
   "id": "e70482e9",
   "metadata": {},
   "source": [
    "### 오류 회피하기 "
   ]
  },
  {
   "cell_type": "code",
   "execution_count": 3,
   "id": "62cbc80a",
   "metadata": {},
   "outputs": [],
   "source": [
    "# error_pass.py\n",
    "try:\n",
    "    f = open(\"나없는파일\", 'r')\n",
    "except FileNotFoundError:\n",
    "    pass"
   ]
  },
  {
   "cell_type": "markdown",
   "id": "b3ce194f",
   "metadata": {},
   "source": [
    "### 예외 만들기"
   ]
  },
  {
   "cell_type": "code",
   "execution_count": 4,
   "id": "f8f32a37",
   "metadata": {},
   "outputs": [],
   "source": [
    "# 같이 파이썬 내장 클래스인 Exception 클래스를 상속하여 만들 수 있다.\n",
    "\n",
    "# error_make.py\n",
    "class MyError(Exception):\n",
    "    pass\n",
    "\n",
    "def say_nick(nick):\n",
    "    if nick == '바보':\n",
    "        raise MyError()\n",
    "    print(nick)\n",
    "    \n",
    "    say_nick(\"천사\")\n",
    "say_nick(\"바보\")\n",
    "\n",
    "천사\n",
    "Traceback (most recent call last):\n",
    "  File \"...\", line 11, in <module>\n",
    "    say_nick(\"바보\")\n",
    "  File \"...\", line 7, in say_nick\n",
    "    raise MyError()\n",
    "__main__.MyError"
   ]
  },
  {
   "cell_type": "markdown",
   "id": "ef21a32e",
   "metadata": {},
   "source": [
    "### 내장함수"
   ]
  },
  {
   "cell_type": "code",
   "execution_count": 6,
   "id": "1da9a2b1",
   "metadata": {},
   "outputs": [
    {
     "data": {
      "text/plain": [
       "3"
      ]
     },
     "execution_count": 6,
     "metadata": {},
     "output_type": "execute_result"
    }
   ],
   "source": [
    "# abs 어떤 숫자를 입력받았을 때 그 숫자의 절댓값을 리턴하는 함수이다.\n",
    "abs(3)"
   ]
  },
  {
   "cell_type": "code",
   "execution_count": 7,
   "id": "5f7b12a0",
   "metadata": {},
   "outputs": [
    {
     "data": {
      "text/plain": [
       "True"
      ]
     },
     "execution_count": 7,
     "metadata": {},
     "output_type": "execute_result"
    }
   ],
   "source": [
    "# all\n",
    "# all(x)는 반복 가능한 데이터 x를 입력값으로 받으며 이 x의 요소가 모두 참이면 True, \n",
    "# 거짓이 하나라도 있으면 False를 리턴한다.\n",
    "\n",
    "all([1, 2, 3])"
   ]
  },
  {
   "cell_type": "code",
   "execution_count": 8,
   "id": "ebc72575",
   "metadata": {},
   "outputs": [
    {
     "data": {
      "text/plain": [
       "True"
      ]
     },
     "execution_count": 8,
     "metadata": {},
     "output_type": "execute_result"
    }
   ],
   "source": [
    "# any\n",
    "# x의 요소 중 하나라도 참이 있으면 True를 리턴하고 \n",
    "# x가 모두 거짓일 때만 False를 리턴한다.\n",
    "\n",
    "any([1, 2, 3, 0])"
   ]
  },
  {
   "cell_type": "code",
   "execution_count": null,
   "id": "8035ca23",
   "metadata": {},
   "outputs": [],
   "source": [
    "# dir\n",
    "# dir은 객체가 지닌 변수나 함수를 보여 주는 함수이다.\n",
    "\n",
    ">>> dir([1, 2, 3])\n",
    "['append', 'count', 'extend', 'index', 'insert', 'pop',...]"
   ]
  },
  {
   "cell_type": "code",
   "execution_count": null,
   "id": "2d691e86",
   "metadata": {},
   "outputs": [],
   "source": [
    "# divmod\n",
    "# divmod(a, b)는 2개의 숫자 a, b를 입력으로 받는다. \n",
    "# 그리고 a를 b로 나눈 몫과 나머지를 튜플로 리턴한다.\n",
    "\n",
    ">>> divmod(7, 3)\n",
    "(2, 1)"
   ]
  },
  {
   "cell_type": "code",
   "execution_count": null,
   "id": "01205f26",
   "metadata": {},
   "outputs": [],
   "source": [
    "# enumerate\n",
    "# 이 함수는 순서가 있는 데이터(리스트, 튜플, 문자열)를 입력으로 받아 \n",
    "# 인덱스 값을 포함하는 enumerate 객체를 리턴한다.\n",
    "\n",
    ">>> for i, name in enumerate(['body', 'foo', 'bar']):\n",
    "...     print(i, name)\n",
    "...\n",
    "0 body\n",
    "1 foo\n",
    "2 bar\n"
   ]
  },
  {
   "cell_type": "code",
   "execution_count": 9,
   "id": "86991a94",
   "metadata": {},
   "outputs": [
    {
     "name": "stdout",
     "output_type": "stream",
     "text": [
      "[1, 2, 6]\n"
     ]
    }
   ],
   "source": [
    "# filter\n",
    "# filter란 ‘무엇인가를 걸러 낸다’라는 뜻으로, \n",
    "# filter 함수도 이와 비슷한 기능을 한다.\n",
    "\n",
    "# filter(함수, 반복_가능한_데이터)\n",
    "\n"
   ]
  },
  {
   "cell_type": "code",
   "execution_count": null,
   "id": "c900e732",
   "metadata": {},
   "outputs": [],
   "source": [
    "# map\n",
    "# map(f, iterable)은 함수(f)와 반복 가능한 데이터를 입력으로 받는다. \n",
    "# map은 입력받은 데이터의 각 요소에 함수 f를 적용한 결과를 리턴하는 함수이다.\n",
    "\n",
    "# 다음 예를 살펴보자.\n",
    "\n",
    "# # two_times.py\n",
    "# def two_times(numberList):\n",
    "#     result = []\n",
    "#     for number in numberList:\n",
    "#         result.append(number*2)\n",
    "#     return result\n",
    "\n",
    "# result = two_times([1, 2, 3, 4])\n",
    "# print(result)"
   ]
  },
  {
   "cell_type": "markdown",
   "id": "559eaca7",
   "metadata": {},
   "source": [
    "### 라이브러리"
   ]
  },
  {
   "cell_type": "code",
   "execution_count": 10,
   "id": "2bc989fd",
   "metadata": {},
   "outputs": [
    {
     "data": {
      "text/plain": [
       "477"
      ]
     },
     "execution_count": 10,
     "metadata": {},
     "output_type": "execute_result"
    }
   ],
   "source": [
    "# datetime.date\n",
    "# datetime.date는 연, 월, 일로 날짜를 표현할 때 사용하는 함수이다.\n",
    "\n",
    "import datetime\n",
    "day1 = datetime.date(2021, 12, 14)\n",
    "day2 = datetime.date(2023, 4, 5)\n",
    "\n",
    "diff = day2 - day1\n",
    "diff.days\n"
   ]
  },
  {
   "cell_type": "code",
   "execution_count": 11,
   "id": "573e1f80",
   "metadata": {},
   "outputs": [
    {
     "data": {
      "text/plain": [
       "1"
      ]
     },
     "execution_count": 11,
     "metadata": {},
     "output_type": "execute_result"
    }
   ],
   "source": [
    "# 요일은 datetime.date 객체의 weekday 함수를 사용하면 쉽게 구할 수 있다.\n",
    "\n",
    "day = datetime.date(2021, 12, 14)\n",
    "day.weekday()"
   ]
  },
  {
   "cell_type": "code",
   "execution_count": 12,
   "id": "12bf46d6",
   "metadata": {},
   "outputs": [
    {
     "data": {
      "text/plain": [
       "2"
      ]
     },
     "execution_count": 12,
     "metadata": {},
     "output_type": "execute_result"
    }
   ],
   "source": [
    "# 요일은 1, 화요일은 2, …, 일요일은 7을 리턴하려면 다음처럼 \n",
    "# isoweekday 함수를 사용하면 된다.\n",
    "\n",
    "day = datetime.date(2021, 12, 14)\n",
    "day.isoweekday()"
   ]
  },
  {
   "cell_type": "code",
   "execution_count": null,
   "id": "9de02509",
   "metadata": {},
   "outputs": [],
   "source": [
    "# time\n",
    "# 시간과 관련된 time 모듈에는 함수가 매우 많다. \n",
    "# 그중 가장 유용한 몇 가지만 알아보자."
   ]
  },
  {
   "cell_type": "code",
   "execution_count": null,
   "id": "683a78a3",
   "metadata": {},
   "outputs": [],
   "source": [
    "# time.sleep\n",
    "# time.sleep 함수는 주로 루프 안에서 많이 사용한다. \n",
    "# 이 함수를 사용하면 일정한 시간 간격을 두고 루프를 실행할 수 있다. \n",
    "\n",
    "# sleep1.py\n",
    "import time\n",
    "for i in range(10):\n",
    "    print(i)\n",
    "    time.sleep(1)"
   ]
  },
  {
   "cell_type": "code",
   "execution_count": 13,
   "id": "5a50605c",
   "metadata": {},
   "outputs": [
    {
     "data": {
      "text/plain": [
       "0.737593990834095"
      ]
     },
     "execution_count": 13,
     "metadata": {},
     "output_type": "execute_result"
    }
   ],
   "source": [
    "#random\n",
    "# random은 난수(규칙이 없는 임의의 수)를 발생시키는 모듈이다.\n",
    "\n",
    "import random\n",
    "random.random()"
   ]
  },
  {
   "cell_type": "code",
   "execution_count": 18,
   "id": "ab2c1c44",
   "metadata": {},
   "outputs": [
    {
     "name": "stdout",
     "output_type": "stream",
     "text": [
      "01.Python_Markdown.ipynb\n",
      "02.Python_Data type & Variable.ipynb\n",
      "03.Python_List.ipynb\n",
      "04.Python_Data Types.ipynb\n",
      "05.Python Conditional Statement.ipynb\n",
      "06.Phython_Functions&File.ipynb\n",
      "07.Processing related to classes.ipynb\n",
      "Python 300제 100~150.ipynb\n",
      "Python 300제 151~200.ipynb\n",
      "Python 300제 201~240.ipynb\n",
      "Python 300제 251~300.ipynb\n",
      "Python_300제 1~50.ipynb\n",
      "Python_300제 51~100.ipynb\n",
      "자료형&변수_연습문제_실습.ipynb\n",
      "제어문_연습문제_실습.ipynb\n",
      "코딩연습_전화번호프로그램_실습.ipynb\n",
      "클래스&내장함수_연습문제_실습용.ipynb\n",
      "함수&입출력_연습문제_실습.ipynb\n"
     ]
    }
   ],
   "source": [
    "# glob\n",
    "# 가끔 파일을 읽고 쓰는 기능이 있는 프로그램을 만들다 보면 특정 \n",
    "# 디렉터리에 있는 파일 이름 모두를 알아야 할 때가 있다. \n",
    "# 이럴 때 사용하는 모듈이 바로 glob이다.\n",
    "\n",
    "import glob\n",
    "files = glob.glob(r\"C:\\workspace\\wassup2\\wassup2\\python_grammar\\*\")\n",
    "\n",
    "for file in files:\n",
    "    print(file.split(\"\\\\\")[-1])"
   ]
  }
 ],
 "metadata": {
  "kernelspec": {
   "display_name": "Python 3 (ipykernel)",
   "language": "python",
   "name": "python3"
  },
  "language_info": {
   "codemirror_mode": {
    "name": "ipython",
    "version": 3
   },
   "file_extension": ".py",
   "mimetype": "text/x-python",
   "name": "python",
   "nbconvert_exporter": "python",
   "pygments_lexer": "ipython3",
   "version": "3.11.5"
  }
 },
 "nbformat": 4,
 "nbformat_minor": 5
}
