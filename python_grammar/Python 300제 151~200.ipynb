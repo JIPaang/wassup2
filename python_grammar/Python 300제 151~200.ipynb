{
 "cells": [
  {
   "cell_type": "code",
   "execution_count": 1,
   "id": "0e00fe84",
   "metadata": {},
   "outputs": [
    {
     "name": "stdout",
     "output_type": "stream",
     "text": [
      "-20\n",
      "-3\n"
     ]
    }
   ],
   "source": [
    "# 151. 리스트에는 네 개의 정수가 저장돼 있다.\n",
    "\n",
    "# 리스트 = [3, -20, -3, 44]\n",
    "# for문을 사용해서 리스트의 음수를 출력하라.\n",
    "\n",
    "# -20\n",
    "# -3\n",
    "리스트 = [3, -20, -3, 44]\n",
    "\n",
    "for i in 리스트:\n",
    "    if i < 0:\n",
    "        print(i)"
   ]
  },
  {
   "cell_type": "code",
   "execution_count": 54,
   "id": "5cf3c30f",
   "metadata": {},
   "outputs": [
    {
     "name": "stdout",
     "output_type": "stream",
     "text": [
      "3\n"
     ]
    }
   ],
   "source": [
    "# 152. for문을 사용해서 3의 배수만을 출력하라.\n",
    "\n",
    "# 리스트 = [3, 100, 23, 44]\n",
    "# 3\n",
    "\n",
    "리스트 = [3, 100, 23, 44]\n",
    "\n",
    "for i in 리스트:\n",
    "    if i%3 == 0:\n",
    "        print(i)"
   ]
  },
  {
   "cell_type": "code",
   "execution_count": 55,
   "id": "9675a837",
   "metadata": {},
   "outputs": [
    {
     "name": "stdout",
     "output_type": "stream",
     "text": [
      "12\n",
      "18\n"
     ]
    }
   ],
   "source": [
    "# 153. 리스트에서 20 보다 작은 3의 배수를 출력하라\n",
    "\n",
    "# 리스트 = [13, 21, 12, 14, 30, 18]\n",
    "# 12\n",
    "# 18\n",
    "\n",
    "리스트 = [13, 21, 12, 14, 30, 18]\n",
    "\n",
    "for i in 리스트:\n",
    "    if i < 20:\n",
    "        if i%3 == 0:\n",
    "            print(i)"
   ]
  },
  {
   "cell_type": "code",
   "execution_count": 57,
   "id": "d2a4308f",
   "metadata": {},
   "outputs": [
    {
     "name": "stdout",
     "output_type": "stream",
     "text": [
      "study\n",
      "python\n",
      "language\n"
     ]
    }
   ],
   "source": [
    "# 154. 리스트에서 세 글자 이상의 문자를 화면에 출력하라\n",
    "\n",
    "# 리스트 = [\"I\", \"study\", \"python\", \"language\", \"!\"]\n",
    "# study\n",
    "# python\n",
    "# language\n",
    "\n",
    "리스트 = [\"I\", \"study\", \"python\", \"language\", \"!\"]\n",
    "\n",
    "for i in 리스트:\n",
    "    if len(i) >= 3:\n",
    "        print(i)"
   ]
  },
  {
   "cell_type": "code",
   "execution_count": 59,
   "id": "24f77352",
   "metadata": {},
   "outputs": [
    {
     "name": "stdout",
     "output_type": "stream",
     "text": [
      "A\n",
      "D\n"
     ]
    }
   ],
   "source": [
    "# 155. 리스트에서 대문자만 화면에 출력하라.\n",
    "# (참고) isupper() 메서드는 대문자 여부를 판별합니다\n",
    "\n",
    "# 리스트 = [\"A\", \"b\", \"c\", \"D\"]\n",
    "# A\n",
    "# D\n",
    "\n",
    "리스트 = [\"A\", \"b\", \"c\", \"D\"]\n",
    "\n",
    "for i in 리스트:\n",
    "    if i.isupper():\n",
    "        print(i)"
   ]
  },
  {
   "cell_type": "code",
   "execution_count": 60,
   "id": "dd3cf2bf",
   "metadata": {},
   "outputs": [
    {
     "name": "stdout",
     "output_type": "stream",
     "text": [
      "b\n",
      "c\n"
     ]
    }
   ],
   "source": [
    "# 156. 리스트에서 소문자만 화면에 출력하라.\n",
    "\n",
    "# 리스트 = [\"A\", \"b\", \"c\", \"D\"]\n",
    "# b\n",
    "# c\n",
    "\n",
    "리스트 = [\"A\", \"b\", \"c\", \"D\"]\n",
    "for i in 리스트:\n",
    "    if not i.isupper():\n",
    "        print(i)"
   ]
  },
  {
   "cell_type": "code",
   "execution_count": 64,
   "id": "a704cfda",
   "metadata": {},
   "outputs": [
    {
     "name": "stdout",
     "output_type": "stream",
     "text": [
      "Dog\n",
      "Cat\n",
      "Parrot\n"
     ]
    }
   ],
   "source": [
    "# 157. 이름의 첫 글자를 대문자로 변경해서 출력하라.\n",
    "\n",
    "# 리스트 = ['dog', 'cat', 'parrot']\n",
    "# Dog\n",
    "# Cat\n",
    "# Parrot\n",
    "\n",
    "리스트 = ['dog', 'cat', 'parrot']\n",
    "\n",
    "for i in 리스트:\n",
    "    print(i[0].upper()+i[1:])"
   ]
  },
  {
   "cell_type": "code",
   "execution_count": 71,
   "id": "8b0c567c",
   "metadata": {},
   "outputs": [
    {
     "name": "stdout",
     "output_type": "stream",
     "text": [
      "hello\n",
      "ex01\n",
      "intro\n"
     ]
    }
   ],
   "source": [
    "# 158. 파일 이름이 저장된 리스트에서 확장자를 제거하고 파일 이름만 화면에 출력하라. (힌트: split() 메서드)\n",
    "\n",
    "# 리스트 = ['hello.py', 'ex01.py', 'intro.hwp']\n",
    "# hello\n",
    "# ex01\n",
    "# intro\n",
    "\n",
    "리스트 = ['hello.py', 'ex01.py', 'intro.hwp']\n",
    "\n",
    "for i in 리스트:\n",
    "    a= i.split('.')\n",
    "    print(a[0])\n",
    "    \n",
    "    \n",
    "  "
   ]
  },
  {
   "cell_type": "code",
   "execution_count": 9,
   "id": "37d6b531",
   "metadata": {},
   "outputs": [],
   "source": [
    "# 159. 파일 이름이 저장된 리스트에서 확장자가 .h인 파일 이름을 출력하라.\n",
    "\n",
    "# 리스트 = ['intra.h', 'intra.c', 'define.h', 'run.py']\n",
    "\n",
    "# intra.h\n",
    "# define.h"
   ]
  },
  {
   "cell_type": "code",
   "execution_count": 81,
   "id": "c67e175d",
   "metadata": {},
   "outputs": [
    {
     "name": "stdout",
     "output_type": "stream",
     "text": [
      "['intra', 'h']\n",
      "['intra', 'c']\n",
      "['define', 'h']\n"
     ]
    }
   ],
   "source": [
    "# 160. 파일 이름이 저장된 리스트에서 확장자가 .h나 .c인 파일을 화면에 출력하라.\n",
    "\n",
    "# 리스트 = ['intra.h', 'intra.c', 'define.h', 'run.py']\n",
    "# intra.h\n",
    "# intra.c\n",
    "# define.h\n",
    "\n",
    "리스트 = ['intra.h', 'intra.c', 'define.h', 'run.py']\n",
    "\n",
    "for i in 리스트:\n",
    "    ac = i.split('.')\n",
    "    if (ac[1] == \"h\") or (ac[1] == \"c\"):\n",
    "        print(ac)\n",
    "        "
   ]
  },
  {
   "cell_type": "code",
   "execution_count": 88,
   "id": "bda2268a",
   "metadata": {},
   "outputs": [
    {
     "name": "stdout",
     "output_type": "stream",
     "text": [
      "1 2 3 4 5 6 7 8 9 10 11 12 13 14 15 16 17 18 19 20 21 22 23 24 25 26 27 28 29 30 31 32 33 34 35 36 37 38 39 40 41 42 43 44 45 46 47 48 49 50 51 52 53 54 55 56 57 58 59 60 61 62 63 64 65 66 67 68 69 70 71 72 73 74 75 76 77 78 79 80 81 82 83 84 85 86 87 88 89 90 91 92 93 94 95 96 97 98 "
     ]
    }
   ],
   "source": [
    "# 161. for문과 range 구문을 사용해서 0~99까지 한 라인에 하나씩 순차적으로 출력하는 프로그램을 작성하라.\n",
    "\n",
    "for i in range (1,99,1):\n",
    "    print(i , end=' ')"
   ]
  },
  {
   "cell_type": "code",
   "execution_count": 92,
   "id": "a6569cb3",
   "metadata": {},
   "outputs": [
    {
     "name": "stdout",
     "output_type": "stream",
     "text": [
      "2002 2006 2010 2014 2018 2022 2026 2030 2034 2038 2042 2046 "
     ]
    }
   ],
   "source": [
    "# 162. 월드컵은 4년에 한 번 개최된다. range()를 사용하여 2002~2050년까지 중 월드컵이 개최되는 연도를 출력하라.\n",
    "\n",
    "# 2002\n",
    "# 2006\n",
    "# 2010\n",
    "# ...\n",
    "# 2042\n",
    "# 2046\n",
    "# 2050\n",
    "\n",
    "for i in range (2002,2050,4):\n",
    "    print(i, end=' ')"
   ]
  },
  {
   "cell_type": "code",
   "execution_count": 95,
   "id": "5498a568",
   "metadata": {},
   "outputs": [
    {
     "name": "stdout",
     "output_type": "stream",
     "text": [
      "3 6 9 12 15 18 21 24 27 "
     ]
    }
   ],
   "source": [
    "# 163. 1부터 30까지의 숫자 중 3의 배수를 출력하라.\n",
    "\n",
    "for i in range (3,30,3):\n",
    "    print(i,end=' ')"
   ]
  },
  {
   "cell_type": "code",
   "execution_count": 100,
   "id": "4a648a33",
   "metadata": {},
   "outputs": [
    {
     "name": "stdout",
     "output_type": "stream",
     "text": [
      "99 98 97 96 95 94 93 92 91 90 89 88 87 86 85 84 83 82 81 80 79 78 77 76 75 74 73 72 71 70 69 68 67 66 65 64 63 62 61 60 59 58 57 56 55 54 53 52 51 50 49 48 47 46 45 44 43 42 41 40 39 38 37 36 35 34 33 32 31 30 29 28 27 26 25 24 23 22 21 20 19 18 17 16 15 14 13 12 11 10 9 8 7 6 5 4 3 2 1 "
     ]
    }
   ],
   "source": [
    "# 164. 99부터 0까지 1씩 감소하는 숫자들을, 한 라인에 하나씩 출력하라.\n",
    "\n",
    "for i in range (99,0,-1):\n",
    "    print(i, end=' ')"
   ]
  },
  {
   "cell_type": "code",
   "execution_count": 106,
   "id": "8719581e",
   "metadata": {},
   "outputs": [
    {
     "name": "stdout",
     "output_type": "stream",
     "text": [
      "0.0   0.1   0.2   0.3   0.4   0.5   0.6   0.7   0.8   0.9   "
     ]
    }
   ],
   "source": [
    "# 165. for문을 사용해서 아래와 같이 출력하라.\n",
    "\n",
    "# 0.0\n",
    "# 0.1\n",
    "# 0.2\n",
    "# 0.3\n",
    "# 0.4\n",
    "# 0.5\n",
    "# ...\n",
    "# 0.9\n",
    "\n",
    "for i in range (10):\n",
    "    print(i/10, end= '   ')"
   ]
  },
  {
   "cell_type": "code",
   "execution_count": 110,
   "id": "40c44db3",
   "metadata": {},
   "outputs": [
    {
     "name": "stdout",
     "output_type": "stream",
     "text": [
      "3 x 1  =  3\n",
      "3 x 2  =  6\n",
      "3 x 3  =  9\n",
      "3 x 4  =  12\n",
      "3 x 5  =  15\n",
      "3 x 6  =  18\n",
      "3 x 7  =  21\n",
      "3 x 8  =  24\n",
      "3 x 9  =  27\n"
     ]
    }
   ],
   "source": [
    "# 166.구구단 3단을 출력하라.\n",
    "\n",
    "# 3x1 = 3 ... .\n",
    "\n",
    "for i in range(1, 10) :\n",
    "    print (3, \"x\", i, \" = \", 3 * i)"
   ]
  },
  {
   "cell_type": "code",
   "execution_count": 116,
   "id": "3cb78d6c",
   "metadata": {},
   "outputs": [
    {
     "name": "stdout",
     "output_type": "stream",
     "text": [
      "3x 1 = 3\n",
      "3x 3 = 9\n",
      "3x 5 = 15\n",
      "3x 7 = 21\n",
      "3x 9 = 27\n"
     ]
    }
   ],
   "source": [
    "# 167. 구구단 3단을 출력하라. 단 홀수 번째만 출력한다.\n",
    "\n",
    "# 3x1 = 3\n",
    "# 3x3 = 9\n",
    "\n",
    "for i in range(1,10):\n",
    "    if i*3%2 == 1:\n",
    "        print('3x',i,'=',i*3)"
   ]
  },
  {
   "cell_type": "code",
   "execution_count": 120,
   "id": "d4cdba21",
   "metadata": {},
   "outputs": [
    {
     "name": "stdout",
     "output_type": "stream",
     "text": [
      "25\n"
     ]
    }
   ],
   "source": [
    "# 168. 1~10까지의 숫자 중 모든 홀수의 합을 출력하는 프로그램을 for 문을 사용하여 작성하라.\n",
    "\n",
    "합 = 0\n",
    "for i in range(1,10):\n",
    "    if i%2== 1:\n",
    "        합 += i\n",
    "print(합)\n",
    "        "
   ]
  },
  {
   "cell_type": "code",
   "execution_count": 121,
   "id": "22168762",
   "metadata": {},
   "outputs": [
    {
     "name": "stdout",
     "output_type": "stream",
     "text": [
      "362880\n"
     ]
    }
   ],
   "source": [
    "# 169. 1~10까지의 숫자를 모두 곱한 값을 출력하는 프로그램을 for 문을 사용하여 작성하라.\n",
    "\n",
    "곱 = 1\n",
    "for i in range(1,10):\n",
    "    곱 *= i\n",
    "print(곱)"
   ]
  },
  {
   "cell_type": "code",
   "execution_count": 122,
   "id": "db9cac84",
   "metadata": {},
   "outputs": [
    {
     "name": "stdout",
     "output_type": "stream",
     "text": [
      "3628800\n"
     ]
    }
   ],
   "source": [
    "# 170.\n",
    "\n",
    "result = 1\n",
    "for i in range(1, 11) :\n",
    "    result *= i\n",
    "print(result)"
   ]
  },
  {
   "cell_type": "code",
   "execution_count": 126,
   "id": "4888f85d",
   "metadata": {},
   "outputs": [
    {
     "name": "stdout",
     "output_type": "stream",
     "text": [
      "32100\n",
      "32150\n",
      "32000\n",
      "32500\n"
     ]
    }
   ],
   "source": [
    "# 171. 아래와 같이 리스트의 데이터를 출력하라. 단, for문과 range문을 사용하라.\n",
    "\n",
    "# price_list = [32100, 32150, 32000, 32500]\n",
    "# 32100\n",
    "# 32150\n",
    "# 32000\n",
    "# 32500\n",
    "\n",
    "price_list = [32100, 32150, 32000, 32500]\n",
    "for i in range (4):\n",
    "    print(price_list[i])"
   ]
  },
  {
   "cell_type": "code",
   "execution_count": 128,
   "id": "e0eb055f",
   "metadata": {},
   "outputs": [
    {
     "name": "stdout",
     "output_type": "stream",
     "text": [
      "0 32100\n",
      "1 32150\n",
      "2 32000\n",
      "3 32500\n"
     ]
    }
   ],
   "source": [
    "# 172. 아래와 같이 리스트의 데이터를 출력하라. 단, for문과 range문을 사용하라.\n",
    "\n",
    "# price_list = [32100, 32150, 32000, 32500]\n",
    "# 0 32100\n",
    "# 1 32150\n",
    "# 2 32000\n",
    "# 3 32500\n",
    "\n",
    "price_list = [32100, 32150, 32000, 32500]\n",
    "for i in range (4):\n",
    "    print(i, price_list[i])"
   ]
  },
  {
   "cell_type": "code",
   "execution_count": 23,
   "id": "67d5be51",
   "metadata": {},
   "outputs": [],
   "source": [
    "# 173. 아래와 같이 리스트의 데이터를 출력하라. 단, for문과 range문을 사용하라.\n",
    "\n",
    "# price_list = [32100, 32150, 32000, 32500]\n",
    "# 3 32100\n",
    "# 2 32150\n",
    "# 1 32000\n",
    "# 0 32500\n",
    "\n",
    "price_list = [32100, 32150, 32000, 32500]\n",
    "for i in range"
   ]
  },
  {
   "cell_type": "code",
   "execution_count": 129,
   "id": "5910b07f",
   "metadata": {},
   "outputs": [
    {
     "name": "stdout",
     "output_type": "stream",
     "text": [
      "100 32150\n",
      "110 32000\n",
      "120 32500\n"
     ]
    }
   ],
   "source": [
    "# 174. 아래와 같이 리스트의 데이터를 출력하라. 단, for문과 range문을 사용하라.\n",
    "\n",
    "# price_list = [32100, 32150, 32000, 32500]\n",
    "# 100 32150\n",
    "# 110 32000\n",
    "# 120 32500\n",
    "\n",
    "price_list = [32100, 32150, 32000, 32500]\n",
    "\n",
    "for i in range (1,4):\n",
    "    print(90 + 10 * i, price_list[i])\n"
   ]
  },
  {
   "cell_type": "code",
   "execution_count": 132,
   "id": "6d788af0",
   "metadata": {},
   "outputs": [
    {
     "name": "stdout",
     "output_type": "stream",
     "text": [
      "가 나\n",
      "나 다\n",
      "다 라\n"
     ]
    }
   ],
   "source": [
    "# 175. my_list를 아래와 같이 출력하라.\n",
    "\n",
    "# my_list = [\"가\", \"나\", \"다\", \"라\"]\n",
    "# 가 나\n",
    "# 나 다\n",
    "# 다 라\n",
    "\n",
    "my_list = [\"가\", \"나\", \"다\", \"라\"]\n",
    "\n",
    "for i in range( 1, len(my_list) ):\n",
    "  print(my_list[i-1], my_list[i])"
   ]
  },
  {
   "cell_type": "code",
   "execution_count": 137,
   "id": "ac59a00c",
   "metadata": {},
   "outputs": [
    {
     "name": "stdout",
     "output_type": "stream",
     "text": [
      "가 나 다\n",
      "나 다 라\n",
      "다 라 마\n"
     ]
    }
   ],
   "source": [
    "# 176. 리스트를 아래와 같이 출력하라.\n",
    "\n",
    "# my_list = [\"가\", \"나\", \"다\", \"라\", \"마\"]\n",
    "# 가 나 다\n",
    "# 나 다 라\n",
    "# 다 라 마\n",
    "\n",
    "my_list = [\"가\", \"나\", \"다\", \"라\", \"마\"]\n",
    "\n",
    "for i in range(1, len(my_list) - 1):\n",
    "    print(my_list[i-1], my_list[i], my_list[i+1])"
   ]
  },
  {
   "cell_type": "code",
   "execution_count": 152,
   "id": "57e2a8a9",
   "metadata": {},
   "outputs": [
    {
     "name": "stdout",
     "output_type": "stream",
     "text": [
      "라 다\n",
      "다 나\n",
      "나 가\n"
     ]
    }
   ],
   "source": [
    "# 177. 177\n",
    "# 반복문과 range 함수를 사용해서 my_list를 아래와 같이 출력하라.\n",
    "\n",
    "# my_list = [\"가\", \"나\", \"다\", \"라\"]\n",
    "# 라 다\n",
    "# 다 나\n",
    "# 나 가\n",
    "\n",
    "my_list = [\"가\", \"나\", \"다\", \"라\"]\n",
    "\n",
    "for i in [3, 2, 1] :\n",
    "    print(my_list[i], my_list[i-1])"
   ]
  },
  {
   "cell_type": "code",
   "execution_count": 153,
   "id": "792156b8",
   "metadata": {},
   "outputs": [
    {
     "name": "stdout",
     "output_type": "stream",
     "text": [
      "100\n",
      "200\n",
      "400\n"
     ]
    }
   ],
   "source": [
    "# 178. 리스트에는 네 개의 정수가 저장되어 있다. 각각의 데이터에 대해서 자신과 우측값과의 차분값을 화면에 출력하라.\n",
    "\n",
    "# my_list = [100, 200, 400, 800]\n",
    "# 예를들어 100을 기준으로 우측에 위치한 200과의 차분 값를 화면에 출력하고, 200을 기준으로 우측에 위치한 400과의 차분값을 화면에 출력한다. \n",
    "# 이어서 400을 기준으로 우측에 위치한 800과의 차분값을 화면에 출력한다.\n",
    "\n",
    "my_list = [100, 200, 400, 800]\n",
    "\n",
    "for i in range(len(my_list) - 1):\n",
    "    print(abs(my_list[i+1] - my_list[i]))"
   ]
  },
  {
   "cell_type": "code",
   "execution_count": 154,
   "id": "5cd87403",
   "metadata": {},
   "outputs": [
    {
     "name": "stdout",
     "output_type": "stream",
     "text": [
      "233.33333333333334\n",
      "466.6666666666667\n",
      "733.3333333333334\n",
      "1033.3333333333333\n"
     ]
    }
   ],
   "source": [
    "# 179. 리스트에는 6일 간의 종가 데이터가 저장되어 있다. 종가 데이터의 3일 이동 평균을 계산하고 이를 화면에 출력하라.\n",
    "\n",
    "my_list = [100, 200, 400, 800, 1000, 1300]\n",
    "\n",
    "for i in range(1, len(my_list) - 1):\n",
    "    print(abs(my_list[i-1] + my_list[i] + my_list[i+1]) / 3)"
   ]
  },
  {
   "cell_type": "code",
   "execution_count": 1,
   "id": "de30b144",
   "metadata": {},
   "outputs": [],
   "source": [
    "# 180. 리스트에 5일간의 저가, 고가 정보가 저장돼 있다. 고가와 저가의 차를 변동폭이라고 정의할 때, \n",
    "# low, high 두 개의 리스트를 사용해서 5일간의 변동폭을 volatility 리스트에 저장하라.\n",
    "\n",
    "low_prices  = [100, 200, 400, 800, 1000]\n",
    "high_prices = [150, 300, 430, 880, 1000]\n",
    "\n",
    "a = []\n",
    "for i in range(len(low_prices)) :\n",
    "    a.append(high_prices[i] - low_prices[i])"
   ]
  },
  {
   "cell_type": "code",
   "execution_count": 3,
   "id": "11cc5a02",
   "metadata": {},
   "outputs": [
    {
     "data": {
      "text/plain": [
       "[['101호', '102호'], ['201호', '202호'], ['301호', '302호']]"
      ]
     },
     "execution_count": 3,
     "metadata": {},
     "output_type": "execute_result"
    }
   ],
   "source": [
    "# 181. 181\n",
    "# 아래 표에서 하나의 행을 하나의 리스트로, 총 3개의 리스트를 갖는 이차원 리스트 apart를 정의하라.\n",
    "\n",
    "# 101호\t102호\n",
    "# 201호\t202호\n",
    "# 301호\t302호\n",
    "\n",
    "apart = [['101호','102호'],['201호','202호'],['301호','302호']]\n",
    "apart\n"
   ]
  },
  {
   "cell_type": "code",
   "execution_count": 7,
   "id": "28651d68",
   "metadata": {},
   "outputs": [
    {
     "data": {
      "text/plain": [
       "[['시가', 100, 200, 300], ['종가', 80, 210, 330]]"
      ]
     },
     "execution_count": 7,
     "metadata": {},
     "output_type": "execute_result"
    }
   ],
   "source": [
    "# 182. 아래 표에서 하나의 열을 하나의 리스트로, 총 2개의 리스트를 갖는 이차원 리스트 stock을 정의하라.\n",
    "\n",
    "# 시가\t종가\n",
    "# 100\t80\n",
    "# 200\t210\n",
    "# 300\t330\n",
    "\n",
    "# stock = [['시가', 100, 200, 300]['종가', 80, 210, 330]]\n",
    "stock = [ [\"시가\", 100, 200, 300], [\"종가\", 80, 210, 330] ]\n",
    "stock\n"
   ]
  },
  {
   "cell_type": "code",
   "execution_count": 9,
   "id": "05d17eab",
   "metadata": {},
   "outputs": [
    {
     "data": {
      "text/plain": [
       "{'시가': [100, 200, 300], '종가': [80, 210, 330]}"
      ]
     },
     "execution_count": 9,
     "metadata": {},
     "output_type": "execute_result"
    }
   ],
   "source": [
    "# 183. 아래 표를 stock 이름의 딕셔너리로 표현하라.시가를 key로 저장하고, \n",
    "# 나머지 같은 열의 데이터를 리스트로 저장해서 value로 저장한다. 종가 역시 key로 저장하고 \n",
    "# 나머지 같은 열의 데이터를 리스트로 저장해서 value로 저장한다.\n",
    "\n",
    "# 시가\t종가\n",
    "# 100\t80\n",
    "# 200\t210\n",
    "# 300\t330\n",
    "\n",
    "stock = {\"시가\": [100, 200, 300], \"종가\": [80, 210, 330] }\n",
    "stock"
   ]
  },
  {
   "cell_type": "code",
   "execution_count": 10,
   "id": "1bcf0320",
   "metadata": {},
   "outputs": [
    {
     "data": {
      "text/plain": [
       "{'10/10': [80, 110, 70, 90], '10/11': [210, 230, 190, 200]}"
      ]
     },
     "execution_count": 10,
     "metadata": {},
     "output_type": "execute_result"
    }
   ],
   "source": [
    "# 184. 아래 표를 stock 이라는 이름의 딕셔너리로 표현하라. 날짜를 key로 저장하고, \n",
    "# 나머지 같은 행의 데이터를 리스트로 저장해서 value로 저장한다. 첫 열이 날짜이다.\n",
    "\n",
    "# 10/10\t80\t110\t70\t90    ㅡㅡㅡㅡㅡㅡㅡㅡㅡㅡ\n",
    "# 10/11\t210\t230\t190\t200  ㅣ\n",
    "\n",
    "stock = {\"10/10\": [80, 110, 70, 90], \"10/11\": [210, 230, 190, 200] }\n",
    "stock\n",
    "\n"
   ]
  },
  {
   "cell_type": "code",
   "execution_count": 12,
   "id": "20ff3117",
   "metadata": {},
   "outputs": [
    {
     "name": "stdout",
     "output_type": "stream",
     "text": [
      "101 호\n",
      "102 호\n",
      "201 호\n",
      "202 호\n",
      "301 호\n",
      "302 호\n"
     ]
    }
   ],
   "source": [
    "# 185.리스트에 저장된 데이터를 아래와 같이 출력하라.\n",
    "\n",
    "# apart = [ [101, 102], [201, 202], [301, 302] ]\n",
    "# 101 호\n",
    "# 102 호\n",
    "# 201 호\n",
    "# 202 호\n",
    "# 301 호\n",
    "# 302 호\n",
    "\n",
    "apart = [ [101, 102], [201, 202], [301, 302] ]\n",
    "\n",
    "for i in apart:\n",
    "    for j in i:\n",
    "        print(j, \"호\")"
   ]
  },
  {
   "cell_type": "code",
   "execution_count": 13,
   "id": "bf1f3aa7",
   "metadata": {},
   "outputs": [
    {
     "name": "stdout",
     "output_type": "stream",
     "text": [
      "301 호\n",
      "302 호\n",
      "201 호\n",
      "202 호\n",
      "101 호\n",
      "102 호\n"
     ]
    }
   ],
   "source": [
    "# 186. 리스트에 저장된 데이터를 아래와 같이 출력하라.\n",
    "\n",
    "# apart = [ [101, 102], [201, 202], [301, 302] ]\n",
    "# 301 호\n",
    "# 302 호\n",
    "# 201 호\n",
    "# 202 호\n",
    "# 101 호\n",
    "# 102 호\n",
    "\n",
    "apart = [ [101, 102], [201, 202], [301, 302] ]\n",
    "\n",
    "for i in apart[::-1]:\n",
    "    for j in i:\n",
    "        print(j, \"호\")"
   ]
  },
  {
   "cell_type": "code",
   "execution_count": 14,
   "id": "f58c7f58",
   "metadata": {},
   "outputs": [
    {
     "name": "stdout",
     "output_type": "stream",
     "text": [
      "302 호\n",
      "301 호\n",
      "202 호\n",
      "201 호\n",
      "102 호\n",
      "101 호\n"
     ]
    }
   ],
   "source": [
    "# 187. 리스트에 저장된 데이터를 아래와 같이 출력하라.\n",
    "\n",
    "# apart = [ [101, 102], [201, 202], [301, 302] ]\n",
    "# 302 호\n",
    "# 301 호\n",
    "# 202 호\n",
    "# 201 호\n",
    "# 102 호\n",
    "# 101 호\n",
    "\n",
    "apart = [ [101, 102], [201, 202], [301, 302] ]\n",
    "\n",
    "for i in apart[::-1]:\n",
    "    for j in i[::-1]:\n",
    "        print(j, \"호\")"
   ]
  },
  {
   "cell_type": "code",
   "execution_count": 15,
   "id": "0bfde2da",
   "metadata": {},
   "outputs": [
    {
     "name": "stdout",
     "output_type": "stream",
     "text": [
      "101 호\n",
      "-------\n",
      "102 호\n",
      "-------\n",
      "201 호\n",
      "-------\n",
      "202 호\n",
      "-------\n",
      "301 호\n",
      "-------\n",
      "302 호\n",
      "-------\n"
     ]
    }
   ],
   "source": [
    "# 188. 리스트에 저장된 데이터를 아래와 같이 출력하라.\n",
    "\n",
    "# apart = [ [101, 102], [201, 202], [301, 302] ]\n",
    "# 101 호\n",
    "# -----\n",
    "# 102 호\n",
    "# -----\n",
    "# 201 호\n",
    "# -----\n",
    "# 202 호\n",
    "# -----\n",
    "# 301 호\n",
    "# -----\n",
    "# 302 호\n",
    "# -----\n",
    "\n",
    "apart = [ [101, 102], [201, 202], [301, 302] ]\n",
    "\n",
    "for i in apart:\n",
    "    for j in i:\n",
    "        print(j, \"호\")\n",
    "        print(\"-------\")"
   ]
  },
  {
   "cell_type": "code",
   "execution_count": 18,
   "id": "c1879834",
   "metadata": {},
   "outputs": [
    {
     "name": "stdout",
     "output_type": "stream",
     "text": [
      "101 호\n",
      "102 호\n",
      "-------\n",
      "201 호\n",
      "202 호\n",
      "-------\n",
      "301 호\n",
      "302 호\n",
      "-------\n"
     ]
    }
   ],
   "source": [
    "# 189. 리스트에 저장된 데이터를 아래와 같이 출력하라.\n",
    "\n",
    "# apart = [ [101, 102], [201, 202], [301, 302] ]\n",
    "# 101 호\n",
    "# 102 호\n",
    "# -----\n",
    "# 201 호\n",
    "# 202 호\n",
    "# -----\n",
    "# 301 호\n",
    "# 302 호\n",
    "# -----\n",
    "\n",
    "apart = [ [101, 102], [201, 202], [301, 302] ]\n",
    "\n",
    "for i in apart:\n",
    "    for j in i:\n",
    "        print(j, \"호\")\n",
    "    print(\"-------\")"
   ]
  },
  {
   "cell_type": "code",
   "execution_count": 21,
   "id": "87487272",
   "metadata": {},
   "outputs": [
    {
     "name": "stdout",
     "output_type": "stream",
     "text": [
      "2000.28\n",
      "3050.43\n",
      "2050.29\n",
      "1980.28\n",
      "7501.05\n",
      "2050.29\n",
      "2050.29\n",
      "1980.28\n",
      "15452.16\n",
      "15052.11\n",
      "15552.18\n",
      "14902.09\n"
     ]
    }
   ],
   "source": [
    "# 190. data에는 매수한 종목들의 OHLC (open/high/low/close) 가격 정보가 바인딩 되어있다.\n",
    "\n",
    "# data = [\n",
    "#     [ 2000,  3050,  2050,  1980],\n",
    "#     [ 7500,  2050,  2050,  1980],\n",
    "#     [15450, 15050, 15550, 14900]\n",
    "# ]\n",
    "\n",
    "# 수수료를 0.014 %로 가정할 때, 각 가격에 수수료를 포함한 가격을 한라인에 하나씩 출력하라.\n",
    "\n",
    "data = [\n",
    "    [ 2000,  3050,  2050,  1980],\n",
    "    [ 7500,  2050,  2050,  1980],\n",
    "    [15450, 15050, 15550, 14900]\n",
    "]\n",
    "\n",
    "for i in data:\n",
    "      for j in i:\n",
    "        print(f'{j * 1.00014:.2f}')"
   ]
  },
  {
   "cell_type": "code",
   "execution_count": 3,
   "id": "29343fe9",
   "metadata": {
    "scrolled": true
   },
   "outputs": [
    {
     "name": "stdout",
     "output_type": "stream",
     "text": [
      "2000.28\n",
      "3050.427\n",
      "2050.2870000000003\n",
      "1980.2772\n",
      "----\n",
      "7501.05\n",
      "2050.2870000000003\n",
      "2050.2870000000003\n",
      "1980.2772\n",
      "----\n",
      "15452.163\n",
      "15052.107\n",
      "15552.177\n",
      "14902.086000000001\n",
      "----\n"
     ]
    }
   ],
   "source": [
    "# 191. 191번의 출력 결과에 행단위로 \"----\" 구분자를 추가하라.\n",
    "\n",
    "data = [\n",
    "    [ 2000,  3050,  2050,  1980],\n",
    "    [ 7500,  2050,  2050,  1980],\n",
    "    [15450, 15050, 15550, 14900]]\n",
    "\n",
    "for line in data:\n",
    "    for column in line:\n",
    "        print(column * 1.00014)\n",
    "    print(\"----\")"
   ]
  },
  {
   "cell_type": "code",
   "execution_count": 8,
   "id": "4d361fcb",
   "metadata": {},
   "outputs": [
    {
     "name": "stdout",
     "output_type": "stream",
     "text": [
      "[2000.28, 3050.427, 2050.2870000000003, 1980.2772, 7501.05, 2050.2870000000003, 2050.2870000000003, 1980.2772, 15452.163, 15052.107, 15552.177, 14902.086000000001]\n"
     ]
    }
   ],
   "source": [
    "# 193.192 번 문제의 결괏값을 result 이름의 리스트에 1차원 배열로 저장하라.\n",
    "\n",
    "result = []\n",
    "for line in data:\n",
    "    for column in line:\n",
    "        result.append(column * 1.00014,)\n",
    "print(result)"
   ]
  },
  {
   "cell_type": "code",
   "execution_count": 9,
   "id": "051d6b76",
   "metadata": {},
   "outputs": [
    {
     "name": "stdout",
     "output_type": "stream",
     "text": [
      "[[2000.28, 3050.427, 2050.2870000000003, 1980.2772], [7501.05, 2050.2870000000003, 2050.2870000000003, 1980.2772], [15452.163, 15052.107, 15552.177, 14902.086000000001]]\n"
     ]
    }
   ],
   "source": [
    "# 194. 191번 문제의 결괏값을 result 이름의 리스트에 2차원 배열로 저장하라. 저장 포맷은 아래와 같다. \n",
    "# 각 행에 대한 데이터끼리 리스트에 저장되어야 한다.\n",
    "\n",
    "result = []\n",
    "for line in data:\n",
    "    sub = []\n",
    "    for column in line:\n",
    "        sub.append(column * 1.00014)\n",
    "    result.append(sub)\n",
    "print(result)"
   ]
  },
  {
   "cell_type": "code",
   "execution_count": 11,
   "id": "34d0a68c",
   "metadata": {},
   "outputs": [
    {
     "name": "stdout",
     "output_type": "stream",
     "text": [
      "100\n",
      "190\n",
      "310\n"
     ]
    }
   ],
   "source": [
    "# 195. ohlc 리스트에는 시가(open), 고가 (high), 저가 (low) , 종가(close)가 날짜별로 저장돼 있다. 화면에 종가데이터를 출력하라.\n",
    "\n",
    "ohlc = [[\"open\", \"high\", \"low\", \"close\"],\n",
    "        [100, 110, 70, 100],\n",
    "        [200, 210, 180, 190],\n",
    "        [300, 310, 300, 310]]\n",
    "\n",
    "for row in ohlc[1:]:\n",
    "    print(row[3])\n"
   ]
  },
  {
   "cell_type": "code",
   "execution_count": 12,
   "id": "dc80fc1b",
   "metadata": {},
   "outputs": [
    {
     "name": "stdout",
     "output_type": "stream",
     "text": [
      "190\n",
      "310\n"
     ]
    }
   ],
   "source": [
    "# 196. ohlc 리스트에는 시가(open), 고가 (high), 저가 (low) , 종가(close)가 날짜별로 저장돼 있다. \n",
    "# 종가가 150원보다 큰경우에만 종가를 출력하라.\n",
    "\n",
    "for row in ohlc[1:]:\n",
    "    if (row[3] > 150):\n",
    "        print(row[3])"
   ]
  },
  {
   "cell_type": "code",
   "execution_count": 13,
   "id": "c13a4171",
   "metadata": {},
   "outputs": [
    {
     "name": "stdout",
     "output_type": "stream",
     "text": [
      "100\n",
      "310\n"
     ]
    }
   ],
   "source": [
    "# 197. ohlc 리스트에는 시가(open), 고가 (high), 저가 (low) , 종가(close)가 날짜별로 저장돼 있다. \n",
    "# 종가가 시가 보다 크거나 같은 경우에만 종가를 출력하라.\n",
    "\n",
    "ohlc = [[\"open\", \"high\", \"low\", \"close\"],\n",
    "        [100, 110, 70, 100],\n",
    "        [200, 210, 180, 190],\n",
    "        [300, 310, 300, 310]]\n",
    "\n",
    "for row in ohlc[1:]:\n",
    "    if (row[3] >= row[0]):\n",
    "        print(row[3])"
   ]
  },
  {
   "cell_type": "code",
   "execution_count": 15,
   "id": "63a655d5",
   "metadata": {},
   "outputs": [],
   "source": [
    "# 198. ohlc 리스트에는 시가(open), 고가 (high), 저가 (low) , 종가(close)가 날짜별로 저장돼 있다. \n",
    "# 고가와 저가의 차이를 변동폭으로 정의할 때 변동폭을 volatility 이름의 리스트에 저장하라.\n",
    "\n",
    "ohlc = [[\"open\", \"high\", \"low\", \"close\"],\n",
    "        [100, 110, 70, 100],\n",
    "        [200, 210, 180, 190],\n",
    "        [300, 310, 300, 310]]\n",
    "\n",
    "volatility = []\n",
    "for row in ohlc[1:]:\n",
    "    volatility.append(row[1]-row[2])"
   ]
  },
  {
   "cell_type": "code",
   "execution_count": 16,
   "id": "7664f6d5",
   "metadata": {},
   "outputs": [
    {
     "name": "stdout",
     "output_type": "stream",
     "text": [
      "10\n"
     ]
    }
   ],
   "source": [
    "# 199. 리스트에는 3일 간의 ohlc 데이터가 저장돼 있다. 종가가 시가보다 높은 날의 변동성 (고가 - 저가)을 화면에 출력하라.\n",
    "\n",
    "ohlc = [[\"open\", \"high\", \"low\", \"close\"],\n",
    "        [100, 110, 70, 100],\n",
    "        [200, 210, 180, 190],\n",
    "        [300, 310, 300, 310]]\n",
    "\n",
    "for row in ohlc[1:]:\n",
    "    if row[3] > row[0]:\n",
    "        print(row[1]-row[2])"
   ]
  },
  {
   "cell_type": "code",
   "execution_count": 17,
   "id": "ba6af29e",
   "metadata": {},
   "outputs": [],
   "source": [
    "# 200. 리스트에는 3일 간의 ohlc 데이터가 저장돼 있다. 시가에 매수해서 종가에 매도 했을 경우 총 수익금을 계산하라.\n",
    "\n",
    "ohlc = [[\"open\", \"high\", \"low\", \"close\"],\n",
    "        [100, 110, 70, 100],\n",
    "        [200, 210, 180, 190],\n",
    "        [300, 310, 300, 310]]\n",
    "\n",
    "profit = 0\n",
    "for row in ohlc[1:]:\n",
    "    profit += (row[3] - row[0])"
   ]
  }
 ],
 "metadata": {
  "kernelspec": {
   "display_name": "Python 3 (ipykernel)",
   "language": "python",
   "name": "python3"
  },
  "language_info": {
   "codemirror_mode": {
    "name": "ipython",
    "version": 3
   },
   "file_extension": ".py",
   "mimetype": "text/x-python",
   "name": "python",
   "nbconvert_exporter": "python",
   "pygments_lexer": "ipython3",
   "version": "3.11.5"
  }
 },
 "nbformat": 4,
 "nbformat_minor": 5
}
