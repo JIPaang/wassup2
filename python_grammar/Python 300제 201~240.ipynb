{
 "cells": [
  {
   "cell_type": "code",
   "execution_count": 8,
   "id": "be7ac1c4",
   "metadata": {},
   "outputs": [],
   "source": [
    "# 201. \n",
    "# \"비트코인\" 문자열을 화면에 출력하는 print_coin() 함수를 정의하라.\n",
    "\n",
    "def print_coin():\n",
    "    print(\"비트코인\")\n"
   ]
  },
  {
   "cell_type": "code",
   "execution_count": 5,
   "id": "2fa6c86e",
   "metadata": {},
   "outputs": [
    {
     "data": {
      "text/plain": [
       "<function __main__.print_coin()>"
      ]
     },
     "execution_count": 5,
     "metadata": {},
     "output_type": "execute_result"
    }
   ],
   "source": [
    "# 202.\n",
    "# 201번에서 정의한 함수를 호출하라.\n",
    "\n",
    "print_coin"
   ]
  },
  {
   "cell_type": "code",
   "execution_count": 11,
   "id": "e5126473",
   "metadata": {},
   "outputs": [
    {
     "name": "stdout",
     "output_type": "stream",
     "text": [
      "비트코인\n",
      " 비트코인\n",
      " 비트코인\n",
      " 비트코인\n",
      " 비트코인\n",
      " 비트코인\n",
      " 비트코인\n",
      " 비트코인\n",
      " 비트코인\n",
      " 비트코인\n",
      " 비트코인\n",
      " 비트코인\n",
      " 비트코인\n",
      " 비트코인\n",
      " 비트코인\n",
      " 비트코인\n",
      " 비트코인\n",
      " 비트코인\n",
      " 비트코인\n",
      " 비트코인\n",
      " 비트코인\n",
      " 비트코인\n",
      " 비트코인\n",
      " 비트코인\n",
      " 비트코인\n",
      " 비트코인\n",
      " 비트코인\n",
      " 비트코인\n",
      " 비트코인\n",
      " 비트코인\n",
      " 비트코인\n",
      " 비트코인\n",
      " 비트코인\n",
      " 비트코인\n",
      " 비트코인\n",
      " 비트코인\n",
      " 비트코인\n",
      " 비트코인\n",
      " 비트코인\n",
      " 비트코인\n",
      " 비트코인\n",
      " 비트코인\n",
      " 비트코인\n",
      " 비트코인\n",
      " 비트코인\n",
      " 비트코인\n",
      " 비트코인\n",
      " 비트코인\n",
      " 비트코인\n",
      " 비트코인\n",
      " 비트코인\n",
      " 비트코인\n",
      " 비트코인\n",
      " 비트코인\n",
      " 비트코인\n",
      " 비트코인\n",
      " 비트코인\n",
      " 비트코인\n",
      " 비트코인\n",
      " 비트코인\n",
      " 비트코인\n",
      " 비트코인\n",
      " 비트코인\n",
      " 비트코인\n",
      " 비트코인\n",
      " 비트코인\n",
      " 비트코인\n",
      " 비트코인\n",
      " 비트코인\n",
      " 비트코인\n",
      " 비트코인\n",
      " 비트코인\n",
      " 비트코인\n",
      " 비트코인\n",
      " 비트코인\n",
      " 비트코인\n",
      " 비트코인\n",
      " 비트코인\n",
      " 비트코인\n",
      " 비트코인\n",
      " 비트코인\n",
      " 비트코인\n",
      " 비트코인\n",
      " 비트코인\n",
      " 비트코인\n",
      " 비트코인\n",
      " 비트코인\n",
      " 비트코인\n",
      " 비트코인\n",
      " 비트코인\n",
      " 비트코인\n",
      " 비트코인\n",
      " 비트코인\n",
      " 비트코인\n",
      " 비트코인\n",
      " 비트코인\n",
      " 비트코인\n",
      " 비트코인\n",
      " 비트코인\n",
      " 비트코인\n",
      " "
     ]
    }
   ],
   "source": [
    "# 203.\n",
    "# 201번에서 정의한 print_coin 함수를 100번호출하라.\n",
    "\n",
    "for i in range(100):\n",
    "    print_coin()"
   ]
  },
  {
   "cell_type": "code",
   "execution_count": null,
   "id": "a91b1fac",
   "metadata": {},
   "outputs": [],
   "source": [
    "# 205"
   ]
  },
  {
   "cell_type": "code",
   "execution_count": null,
   "id": "c85fe0e0",
   "metadata": {},
   "outputs": [],
   "source": [
    "# 206"
   ]
  },
  {
   "cell_type": "code",
   "execution_count": null,
   "id": "4382b473",
   "metadata": {},
   "outputs": [],
   "source": [
    "# 207"
   ]
  },
  {
   "cell_type": "code",
   "execution_count": null,
   "id": "99d15d0d",
   "metadata": {},
   "outputs": [],
   "source": [
    "# 208"
   ]
  },
  {
   "cell_type": "code",
   "execution_count": null,
   "id": "dbebb617",
   "metadata": {},
   "outputs": [],
   "source": [
    "# 209"
   ]
  },
  {
   "cell_type": "code",
   "execution_count": null,
   "id": "cb355c4e",
   "metadata": {},
   "outputs": [],
   "source": [
    "# 210"
   ]
  },
  {
   "cell_type": "code",
   "execution_count": null,
   "id": "2f6f7dac",
   "metadata": {},
   "outputs": [],
   "source": [
    "# 211"
   ]
  },
  {
   "cell_type": "code",
   "execution_count": null,
   "id": "05e2e16e",
   "metadata": {},
   "outputs": [],
   "source": [
    "# 212"
   ]
  },
  {
   "cell_type": "code",
   "execution_count": null,
   "id": "5183056e",
   "metadata": {},
   "outputs": [],
   "source": [
    "# 213"
   ]
  },
  {
   "cell_type": "code",
   "execution_count": null,
   "id": "80fccbc0",
   "metadata": {},
   "outputs": [],
   "source": [
    "# 214"
   ]
  },
  {
   "cell_type": "code",
   "execution_count": null,
   "id": "640308ca",
   "metadata": {},
   "outputs": [],
   "source": [
    "# 215"
   ]
  },
  {
   "cell_type": "code",
   "execution_count": null,
   "id": "eefd9adc",
   "metadata": {},
   "outputs": [],
   "source": [
    "# 216"
   ]
  },
  {
   "cell_type": "code",
   "execution_count": null,
   "id": "4f96fbb3",
   "metadata": {},
   "outputs": [],
   "source": [
    "# 217"
   ]
  },
  {
   "cell_type": "code",
   "execution_count": null,
   "id": "fbdd3d79",
   "metadata": {},
   "outputs": [],
   "source": [
    "# 218"
   ]
  },
  {
   "cell_type": "code",
   "execution_count": null,
   "id": "0f1578b7",
   "metadata": {},
   "outputs": [],
   "source": [
    "# 219"
   ]
  },
  {
   "cell_type": "code",
   "execution_count": null,
   "id": "a149f600",
   "metadata": {},
   "outputs": [],
   "source": [
    "# 220"
   ]
  },
  {
   "cell_type": "code",
   "execution_count": null,
   "id": "0f15bcfd",
   "metadata": {},
   "outputs": [],
   "source": [
    "# 221"
   ]
  },
  {
   "cell_type": "code",
   "execution_count": null,
   "id": "a0e65aa1",
   "metadata": {},
   "outputs": [],
   "source": [
    "# 222"
   ]
  },
  {
   "cell_type": "code",
   "execution_count": null,
   "id": "cbf6af50",
   "metadata": {},
   "outputs": [],
   "source": [
    "# 223"
   ]
  },
  {
   "cell_type": "code",
   "execution_count": null,
   "id": "a0c0eaf4",
   "metadata": {},
   "outputs": [],
   "source": [
    "# 224"
   ]
  },
  {
   "cell_type": "code",
   "execution_count": null,
   "id": "b0e49589",
   "metadata": {},
   "outputs": [],
   "source": [
    "# 225"
   ]
  },
  {
   "cell_type": "code",
   "execution_count": null,
   "id": "4cbe5e18",
   "metadata": {},
   "outputs": [],
   "source": [
    "# 226"
   ]
  },
  {
   "cell_type": "code",
   "execution_count": null,
   "id": "fbb05628",
   "metadata": {},
   "outputs": [],
   "source": [
    "# 227"
   ]
  },
  {
   "cell_type": "code",
   "execution_count": null,
   "id": "dc029535",
   "metadata": {},
   "outputs": [],
   "source": [
    "# 228"
   ]
  },
  {
   "cell_type": "code",
   "execution_count": null,
   "id": "f9ce2f97",
   "metadata": {},
   "outputs": [],
   "source": [
    "# 229"
   ]
  },
  {
   "cell_type": "code",
   "execution_count": null,
   "id": "44d2cf7c",
   "metadata": {},
   "outputs": [],
   "source": [
    "# 230"
   ]
  },
  {
   "cell_type": "code",
   "execution_count": null,
   "id": "d05be99f",
   "metadata": {},
   "outputs": [],
   "source": [
    "# 231"
   ]
  },
  {
   "cell_type": "code",
   "execution_count": null,
   "id": "84b7d128",
   "metadata": {},
   "outputs": [],
   "source": [
    "# 232"
   ]
  },
  {
   "cell_type": "code",
   "execution_count": null,
   "id": "b0fcb5a7",
   "metadata": {},
   "outputs": [],
   "source": [
    "# 233"
   ]
  },
  {
   "cell_type": "code",
   "execution_count": null,
   "id": "15c9f0bc",
   "metadata": {},
   "outputs": [],
   "source": [
    "# 234"
   ]
  },
  {
   "cell_type": "code",
   "execution_count": null,
   "id": "1864fca9",
   "metadata": {},
   "outputs": [],
   "source": [
    "# 235"
   ]
  },
  {
   "cell_type": "code",
   "execution_count": null,
   "id": "231d7764",
   "metadata": {},
   "outputs": [],
   "source": [
    "# 236"
   ]
  },
  {
   "cell_type": "code",
   "execution_count": null,
   "id": "1c5fba2e",
   "metadata": {},
   "outputs": [],
   "source": [
    "# 237"
   ]
  },
  {
   "cell_type": "code",
   "execution_count": null,
   "id": "478b09cc",
   "metadata": {},
   "outputs": [],
   "source": [
    "# 238"
   ]
  },
  {
   "cell_type": "code",
   "execution_count": null,
   "id": "604ee9de",
   "metadata": {},
   "outputs": [],
   "source": [
    "# 239"
   ]
  },
  {
   "cell_type": "code",
   "execution_count": null,
   "id": "508935a9",
   "metadata": {},
   "outputs": [],
   "source": [
    "# 240"
   ]
  }
 ],
 "metadata": {
  "kernelspec": {
   "display_name": "Python 3 (ipykernel)",
   "language": "python",
   "name": "python3"
  },
  "language_info": {
   "codemirror_mode": {
    "name": "ipython",
    "version": 3
   },
   "file_extension": ".py",
   "mimetype": "text/x-python",
   "name": "python",
   "nbconvert_exporter": "python",
   "pygments_lexer": "ipython3",
   "version": "3.11.5"
  }
 },
 "nbformat": 4,
 "nbformat_minor": 5
}
