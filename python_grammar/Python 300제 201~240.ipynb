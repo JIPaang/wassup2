{
 "cells": [
  {
   "cell_type": "code",
   "execution_count": 8,
   "id": "be7ac1c4",
   "metadata": {},
   "outputs": [],
   "source": [
    "# 201. \n",
    "# \"비트코인\" 문자열을 화면에 출력하는 print_coin() 함수를 정의하라.\n",
    "\n",
    "def print_coin():\n",
    "    print(\"비트코인\")\n"
   ]
  },
  {
   "cell_type": "code",
   "execution_count": 5,
   "id": "2fa6c86e",
   "metadata": {},
   "outputs": [
    {
     "data": {
      "text/plain": [
       "<function __main__.print_coin()>"
      ]
     },
     "execution_count": 5,
     "metadata": {},
     "output_type": "execute_result"
    }
   ],
   "source": [
    "# 202.\n",
    "# 201번에서 정의한 함수를 호출하라.\n",
    "\n",
    "print_coin"
   ]
  },
  {
   "cell_type": "code",
   "execution_count": 1,
   "id": "e5126473",
   "metadata": {},
   "outputs": [
    {
     "name": "stdout",
     "output_type": "stream",
     "text": [
      "비트코인 비트코인 비트코인 비트코인 비트코인 비트코인 비트코인 비트코인 비트코인 비트코인 비트코인 비트코인 비트코인 비트코인 비트코인 비트코인 비트코인 비트코인 비트코인 비트코인 비트코인 비트코인 비트코인 비트코인 비트코인 비트코인 비트코인 비트코인 비트코인 비트코인 비트코인 비트코인 비트코인 비트코인 비트코인 비트코인 비트코인 비트코인 비트코인 비트코인 비트코인 비트코인 비트코인 비트코인 비트코인 비트코인 비트코인 비트코인 비트코인 비트코인 비트코인 비트코인 비트코인 비트코인 비트코인 비트코인 비트코인 비트코인 비트코인 비트코인 비트코인 비트코인 비트코인 비트코인 비트코인 비트코인 비트코인 비트코인 비트코인 비트코인 비트코인 비트코인 비트코인 비트코인 비트코인 비트코인 비트코인 비트코인 비트코인 비트코인 비트코인 비트코인 비트코인 비트코인 비트코인 비트코인 비트코인 비트코인 비트코인 비트코인 비트코인 비트코인 비트코인 비트코인 비트코인 비트코인 비트코인 비트코인 비트코인 비트코인 "
     ]
    }
   ],
   "source": [
    "# 203.\n",
    "# 201번에서 정의한 print_coin 함수를 100번호출하라.\n",
    "def print_coin():\n",
    "    print(\"비트코인\", end = ' ')\n",
    "\n",
    "for i in range(100):\n",
    "    print_coin()"
   ]
  },
  {
   "cell_type": "code",
   "execution_count": null,
   "id": "a91b1fac",
   "metadata": {},
   "outputs": [],
   "source": [
    "# 205\n",
    "# \"비트코인\" 문자열을 100번 화면에 출력하는 print_coins() 함수를 정의하라.\n",
    "\n",
    "def print_coins():\n",
    "    for i in range(100):\n",
    "        print(\"비트코인\")"
   ]
  },
  {
   "cell_type": "code",
   "execution_count": null,
   "id": "c85fe0e0",
   "metadata": {},
   "outputs": [],
   "source": [
    "# 206\n",
    "# 아래의 에러가 발생하는 이유에 대해 설명하라.\n",
    "\n",
    "hello()\n",
    "def hello():\n",
    "    print(\"Hi\")\n",
    "    \n",
    "# 함수 정의 이전에 호출을 함."
   ]
  },
  {
   "cell_type": "code",
   "execution_count": null,
   "id": "4382b473",
   "metadata": {},
   "outputs": [],
   "source": [
    "# 207\n",
    "# def message() :\n",
    "#     print(\"A\")\n",
    "#     print(\"B\")\n",
    "\n",
    "# message()\n",
    "# print(\"C\")\n",
    "# message()\n",
    "\n",
    "A\n",
    "B\n",
    "C\n",
    "A\n",
    "B"
   ]
  },
  {
   "cell_type": "code",
   "execution_count": null,
   "id": "99d15d0d",
   "metadata": {},
   "outputs": [],
   "source": [
    "# 208\n",
    "# print(\"A\")\n",
    "\n",
    "# def message() :\n",
    "#     print(\"B\")\n",
    "\n",
    "# print(\"C\")\n",
    "# message()\n",
    "\n",
    "A\n",
    "C\n",
    "B"
   ]
  },
  {
   "cell_type": "code",
   "execution_count": null,
   "id": "dbebb617",
   "metadata": {},
   "outputs": [],
   "source": [
    "# 209\n",
    "# 아래 코드의 실행 결과를 예측하라.\n",
    "\n",
    "# def message1():\n",
    "#     print(\"A\")\n",
    "\n",
    "# def message2():\n",
    "#     print(\"B\")\n",
    "#     message1()\n",
    "\n",
    "# message2()\n",
    "\n",
    "B\n",
    "A"
   ]
  },
  {
   "cell_type": "code",
   "execution_count": null,
   "id": "cb355c4e",
   "metadata": {},
   "outputs": [],
   "source": [
    "# 210\n",
    "# 아래 코드의 실행 결과를 예측하라.\n",
    "\n",
    "# def message1():\n",
    "#     print(\"A\")\n",
    "\n",
    "# def message2():\n",
    "#     print(\"B\")\n",
    "\n",
    "# def message3():\n",
    "#     for i in range (3) :\n",
    "#         message2()\n",
    "#         print(\"C\")\n",
    "#     message1()\n",
    "\n",
    "# message3()\n",
    "\n",
    "B\n",
    "C\n",
    "B\n",
    "C\n",
    "B\n",
    "C\n",
    "A"
   ]
  },
  {
   "cell_type": "code",
   "execution_count": null,
   "id": "2f6f7dac",
   "metadata": {},
   "outputs": [],
   "source": [
    "# 211\n",
    "# 함수의 호출 결과를 예측하라.\n",
    "\n",
    "# def 함수(문자열) :\n",
    "#     print(문자열)\n",
    "\n",
    "# 함수(\"안녕\")\n",
    "# 함수(\"Hi\")\n",
    "\n",
    "# 안녕\n",
    "# HI"
   ]
  },
  {
   "cell_type": "code",
   "execution_count": null,
   "id": "05e2e16e",
   "metadata": {},
   "outputs": [],
   "source": [
    "# 212\n",
    "# 함수의 호출 결과를 예측하라.\n",
    "\n",
    "# def 함수(a, b) :\n",
    "#     print(a + b)\n",
    "\n",
    "# 함수(3, 4)\n",
    "# 함수(7, 8)\n",
    "# 7\n",
    "# 15"
   ]
  },
  {
   "cell_type": "code",
   "execution_count": null,
   "id": "5183056e",
   "metadata": {},
   "outputs": [],
   "source": [
    "# 213\n",
    "# 아래와 같은 에러가 발생하는 원인을 설명하라.\n",
    "\n",
    "# def 함수(문자열) :\n",
    "#     print(문자열)\n",
    "# 함수()\n",
    "# TypeError: 함수() missing 1 required positional argument: '문자열'\n",
    "\n",
    "# 호출하는 함수의 인자가 없음"
   ]
  },
  {
   "cell_type": "code",
   "execution_count": null,
   "id": "80fccbc0",
   "metadata": {},
   "outputs": [],
   "source": [
    "# 214\n",
    "# 아래와 같은 에러가 발생하는 원인을 설명하라.\n",
    "\n",
    "# def 함수(a, b) :\n",
    "#     print(a + b)\n",
    "\n",
    "# 함수(\"안녕\", 3)\n",
    "# TypeError: must be str, not int\n",
    "\n",
    "# 정수형으로 받지 않음"
   ]
  },
  {
   "cell_type": "code",
   "execution_count": null,
   "id": "640308ca",
   "metadata": {},
   "outputs": [],
   "source": [
    "# 215\n",
    "# 하나의 문자를 입력받아 문자열 끝에 \":D\" 스마일 문자열을 이어 붙여 출력하는 print_with_smile 함수를 정의하라.\n",
    "\n",
    "# def print_with_smile (string) :\n",
    "#     print (string + \":D\")"
   ]
  },
  {
   "cell_type": "code",
   "execution_count": 2,
   "id": "eefd9adc",
   "metadata": {},
   "outputs": [
    {
     "name": "stdout",
     "output_type": "stream",
     "text": [
      "안녕하세요:D\n"
     ]
    }
   ],
   "source": [
    "# 216\n",
    "# 215에서 정의한 함수를 호출하라. 파라미터는 \"안녕하세요\"로 입력하라.\n",
    "\n",
    "def print_with_smile (string) :\n",
    "    print (string + \":D\")\n",
    "    \n",
    "print_with_smile(\"안녕하세요\")"
   ]
  },
  {
   "cell_type": "code",
   "execution_count": null,
   "id": "4f96fbb3",
   "metadata": {},
   "outputs": [],
   "source": [
    "# 217\n",
    "# 현재 가격을 입력 받아 상한가 (30%)를 출력하는 print_upper_price 함수를 정의하라.\n",
    "\n",
    "# def print_upper_price(price) :\n",
    "#     print(price * 1.3)"
   ]
  },
  {
   "cell_type": "code",
   "execution_count": null,
   "id": "fbdd3d79",
   "metadata": {},
   "outputs": [],
   "source": [
    "# 218\n",
    "# 두 개의 숫자를 입력받아 두 수의 합을 출력하는 print_sum 함수를 정의하라.\n",
    "\n",
    "# def print_sum (a, b) :\n",
    "#     print (a + b)"
   ]
  },
  {
   "cell_type": "code",
   "execution_count": 3,
   "id": "0f1578b7",
   "metadata": {},
   "outputs": [
    {
     "name": "stdout",
     "output_type": "stream",
     "text": [
      "200 + 100 = 300\n",
      "200 - 100 = 100\n",
      "200 * 100 = 20000\n",
      "200 / 100 = 2.0\n"
     ]
    }
   ],
   "source": [
    "# 219\n",
    "# 두 개의 숫자를 입력받아 합/차/곱/나눗셈을 출력하는 print_arithmetic_operation 함수를 작성하라.\n",
    "\n",
    "def print_arithmetic_operation(a, b):\n",
    "    print(a, \"+\", b, \"=\", a + b)\n",
    "    print(a, \"-\", b, \"=\", a - b)\n",
    "    print(a, \"*\", b, \"=\", a * b)\n",
    "    print(a, \"/\", b, \"=\", a / b)\n",
    "    \n",
    "print_arithmetic_operation(200, 100)"
   ]
  },
  {
   "cell_type": "code",
   "execution_count": 6,
   "id": "a149f600",
   "metadata": {},
   "outputs": [
    {
     "name": "stdout",
     "output_type": "stream",
     "text": [
      "30\n"
     ]
    }
   ],
   "source": [
    "# 220\n",
    "# 세 개의 숫자를 입력받아 가장 큰수를 출력하는 print_max 함수를 정의하라. 단 if 문을 사용해서 수를 비교하라.\n",
    "\n",
    "def print_max(a, b, c) :\n",
    "    max_val = 0\n",
    "    if a > max_val :\n",
    "        max_val = a\n",
    "    if b > max_val :\n",
    "        max_val = b\n",
    "    if c > max_val :\n",
    "        max_val = c\n",
    "    print(max_val)\n",
    "    \n",
    "print_max(10, 20, 30)"
   ]
  },
  {
   "cell_type": "code",
   "execution_count": null,
   "id": "0f15bcfd",
   "metadata": {},
   "outputs": [],
   "source": [
    "# 221\n",
    "# 입력된 문자열을 역순으로 출력하는 print_reverse 함수를 정의하라.\n",
    "\n",
    "# print_reverse(\"python\")"
   ]
  },
  {
   "cell_type": "code",
   "execution_count": null,
   "id": "a0e65aa1",
   "metadata": {},
   "outputs": [],
   "source": [
    "# 222\n",
    "# 성적 리스트를 입력 받아 평균을 출력하는 print_score 함수를 정의하라.\n",
    "\n",
    "# def print_score(score_list) :\n",
    "#     print(sum(score_list)/len(score_list))"
   ]
  },
  {
   "cell_type": "code",
   "execution_count": null,
   "id": "cbf6af50",
   "metadata": {},
   "outputs": [],
   "source": [
    "# 223\n",
    "# 하나의 리스트를 입력받아 짝수만 화면에 출력하는 print_even 함수를 정의하라.\n",
    "\n",
    "# def print_even (my_list) :\n",
    "#     for v in my_list :\n",
    "#         if v % 2 == 0 :\n",
    "#             print(v)"
   ]
  },
  {
   "cell_type": "code",
   "execution_count": null,
   "id": "a0c0eaf4",
   "metadata": {},
   "outputs": [],
   "source": [
    "# 224\n",
    "# 하나의 딕셔너리를 입력받아 딕셔너리의 key 값을 화면에 출력하는 print_keys 함수를 정의하라.\n",
    "\n",
    "# print_keys ({\"이름\":\"김말똥\", \"나이\":30, \"성별\":0})\n",
    "\n",
    "# def print_keys(dic):\n",
    "#     for keys in dic.keys():\n",
    "#         print(keys)"
   ]
  },
  {
   "cell_type": "code",
   "execution_count": 9,
   "id": "b0e49589",
   "metadata": {},
   "outputs": [
    {
     "name": "stdout",
     "output_type": "stream",
     "text": [
      "[100, 130, 100, 100]\n"
     ]
    }
   ],
   "source": [
    "# 225\n",
    "# my_dict에는 날짜를 키값으로 OHLC가 리스트로 저장돼 있다.\n",
    "\n",
    "# my_dict = {\"10/26\" : [100, 130, 100, 100],\n",
    "#            \"10/27\" : [10, 12, 10, 11]}\n",
    "# my_dict와 날짜 키값을 입력받아 OHLC 리스트를 출력하는 print_value_by_key 함수를 정의하라.\n",
    "\n",
    "# print_value_by_key  (my_dict, \"10/26\")\n",
    "# [100, 130, 100, 100]\n",
    "\n",
    "def print_value_by_key(my_dict, key):\n",
    "    if key in my_dict:\n",
    "        print(my_dict[key])\n",
    "\n",
    "my_dict = {\n",
    "    \"10/26\": [100, 130, 100, 100],\n",
    "    \"10/27\": [10, 12, 10, 11]\n",
    "}\n",
    "\n",
    "print_value_by_key(my_dict, \"10/26\")"
   ]
  },
  {
   "cell_type": "code",
   "execution_count": null,
   "id": "4cbe5e18",
   "metadata": {},
   "outputs": [],
   "source": [
    "# 226\n",
    "# 입력 문자열을 한 줄에 다섯글자씩 출력하는 print_5xn(string) 함수를 작성하라.\n",
    "\n",
    "# print_5xn(\"아이엠어보이유알어걸\")\n",
    "\n",
    "# def print_5xn(line):\n",
    "#     chunk_num = int(len(line) / 5)\n",
    "#     for x in range(chunk_num + 1) :\n",
    "#         print(line[x * 5: x * 5 + 5])"
   ]
  },
  {
   "cell_type": "code",
   "execution_count": null,
   "id": "fbb05628",
   "metadata": {},
   "outputs": [],
   "source": [
    "# 227\n",
    "# 문자열과 한줄에 출력될 글자 수를 입력을 받아 한 줄에 입력된 글자 수만큼 출력하는 print_mxn(string) 함수를 작성하라.\n",
    "\n",
    "# printmxn(\"아이엠어보이유알어걸\", 3)\n",
    "\n",
    "# def print_mxn(line, num):\n",
    "#     chunk_num = int(len(line) / num)\n",
    "#     for x in range(chunk_num + 1) :\n",
    "#         print(line[x * num: x * num + num])"
   ]
  },
  {
   "cell_type": "code",
   "execution_count": null,
   "id": "dc029535",
   "metadata": {},
   "outputs": [],
   "source": [
    "# 228\n",
    "# 연봉을 입력받아 월급을 계산하는 calc_monthly_salary(annual_salary) 함수를 정의하라. \n",
    "# 회사는 연봉을 12개월로 나누어 분할 지급하며, 이 때 1원 미만은 버림한다.\n",
    "\n",
    "# calc_monthly_salary(12000000)\n",
    "# 1000000\n",
    "\n",
    "# def calc_monthly_salary(annual_pay) :\n",
    "#     monthly_pay = int(annual_pay / 12)\n",
    "#     return monthly_pay"
   ]
  },
  {
   "cell_type": "code",
   "execution_count": null,
   "id": "f9ce2f97",
   "metadata": {},
   "outputs": [],
   "source": [
    "# 229\n",
    "# 아래 코드의 실행 결과를 예측하라.\n",
    "\n",
    "# def my_print (a, b) :\n",
    "#     print(\"왼쪽:\", a)\n",
    "#     print(\"오른쪽:\", b)\n",
    "\n",
    "# my_print(a=100, b=200)\n",
    "\n",
    "# 왼쪽 100 오른쪽 200"
   ]
  },
  {
   "cell_type": "code",
   "execution_count": null,
   "id": "44d2cf7c",
   "metadata": {},
   "outputs": [],
   "source": [
    "# 230\n",
    "# 아래 코드의 실행 결과를 예측하라.\n",
    "\n",
    "# def my_print (a, b) :\n",
    "#     print(\"왼쪽:\", a)\n",
    "#     print(\"오른쪽:\", b)\n",
    "\n",
    "# my_print(b=100, a=200)\n",
    "\n",
    "# 왼쪽 200 오른쪽 100 "
   ]
  },
  {
   "cell_type": "code",
   "execution_count": null,
   "id": "d05be99f",
   "metadata": {},
   "outputs": [],
   "source": [
    "# 231\n",
    "# 아래 코드를 실행한 결과를 예상하라.\n",
    "\n",
    "# def n_plus_1 (n) :\n",
    "#     result = n + 1\n",
    "\n",
    "# n_plus_1(3)\n",
    "# print (result)\n",
    "\n",
    "# result 함수 내부에 정의되어 있기 때문에 호출할 수 없음"
   ]
  },
  {
   "cell_type": "code",
   "execution_count": null,
   "id": "84b7d128",
   "metadata": {},
   "outputs": [],
   "source": [
    "# 232\n",
    "# 문자열 하나를 입력받아 인터넷 주소를 반환하는 make_url 함수를 정의하라.\n",
    "\n",
    "# make_url(\"naver\")\n",
    "# www.naver.com\n",
    "\n",
    "# def make_url(string) :\n",
    "#     url = \"www.\" + string + \".com\"\n",
    "#     return url"
   ]
  },
  {
   "cell_type": "code",
   "execution_count": null,
   "id": "b0fcb5a7",
   "metadata": {},
   "outputs": [],
   "source": [
    "# 233\n",
    "# 문자열을 입력받아 각 문자들로 구성된 리스트로 반환하는 make_list 함수를 정의하라.\n",
    "\n",
    "# make_list(\"abcd\")\n",
    "# ['a', 'b', 'c', 'd']\n",
    "\n",
    "# def make_list (string) :\n",
    "#     my_list = []\n",
    "#     for 변수 in string :\n",
    "#         my_list.append(변수)\n",
    "#     return my_list"
   ]
  },
  {
   "cell_type": "code",
   "execution_count": null,
   "id": "15c9f0bc",
   "metadata": {},
   "outputs": [],
   "source": [
    "# 234\n",
    "# 숫자로 구성된 하나의 리스트를 입력받아, 짝수들을 추출하여 리스트로 반환하는 pickup_even 함수를 구현하라.\n",
    "\n",
    "# pickup_even([3, 4, 5, 6, 7, 8])\n",
    "# [4, 6, 8]\n",
    "\n",
    "# def pickup_even(items):\n",
    "#     result = []\n",
    "#     for item in items:\n",
    "#         if item % 2 == 0:\n",
    "#             result.append(item)\n",
    "#     return result"
   ]
  },
  {
   "cell_type": "code",
   "execution_count": null,
   "id": "1864fca9",
   "metadata": {},
   "outputs": [],
   "source": [
    "# 235\n",
    "# 콤마가 포함된 문자열 숫자를 입력받아 정수로 변환하는 convert_int 함수를 정의하라.\n",
    "\n",
    "# convert_int(\"1,234,567\")\n",
    "# 1234567\n",
    "\n",
    "# def convert_int (string) :\n",
    "#     return int(string.replace(',', ''))\n"
   ]
  },
  {
   "cell_type": "code",
   "execution_count": null,
   "id": "231d7764",
   "metadata": {},
   "outputs": [],
   "source": [
    "# 236\n",
    "# 아래 코드의 실행 결과를 예측하라.\n",
    "\n",
    "# def 함수(num) :\n",
    "#     return num + 4\n",
    "\n",
    "# a = 함수(10)\n",
    "# b = 함수(a)\n",
    "# c = 함수(b)\n",
    "# print(c)\n",
    "\n",
    "# 14 > 18 > 22"
   ]
  },
  {
   "cell_type": "code",
   "execution_count": null,
   "id": "1c5fba2e",
   "metadata": {},
   "outputs": [],
   "source": [
    "# 237\n",
    "# 아래 코드의 실행 결과를 예측하라.\n",
    "\n",
    "# def 함수(num) :\n",
    "#     return num + 4\n",
    "\n",
    "# c = 함수(함수(함수(10)))\n",
    "# print(c)\n",
    "\n",
    "# 14 > 18 > 22"
   ]
  },
  {
   "cell_type": "code",
   "execution_count": null,
   "id": "478b09cc",
   "metadata": {},
   "outputs": [],
   "source": [
    "# 238\n",
    "# 아래 코드의 실행 결과를 예측하라.\n",
    "\n",
    "# def 함수1(num) :\n",
    "#     return num + 4\n",
    "\n",
    "# def 함수2(num) :\n",
    "#     return num * 10\n",
    "\n",
    "# a = 함수1(10)\n",
    "# c = 함수2(a)\n",
    "# print(c)\n",
    "\n",
    "# 14 * 10 = 140"
   ]
  },
  {
   "cell_type": "code",
   "execution_count": null,
   "id": "604ee9de",
   "metadata": {},
   "outputs": [],
   "source": [
    "# 239\n",
    "# 아래 코드의 실행 결과를 예측하라.\n",
    "\n",
    "# def 함수1(num) :\n",
    "#     return num + 4\n",
    "\n",
    "# def 함수2(num) :\n",
    "#     num = num + 2\n",
    "#     return 함수1(num)\n",
    "\n",
    "# c = 함수2(10)\n",
    "# print(c)\n",
    "\n",
    "# 12 > 함수1 > 16"
   ]
  },
  {
   "cell_type": "code",
   "execution_count": null,
   "id": "508935a9",
   "metadata": {},
   "outputs": [],
   "source": [
    "# 240\n",
    "# 아래 코드의 실행 결과를 예측하라.\n",
    "\n",
    "# def 함수0(num) :\n",
    "#     return num * 2\n",
    "\n",
    "# def 함수1(num) :\n",
    "#     return 함수0(num + 2)\n",
    "\n",
    "# def 함수2(num) :\n",
    "#     num = num + 10\n",
    "#     return 함수1(num)\n",
    "\n",
    "# c = 함수2(2)\n",
    "# print(c)\n",
    "\n",
    "# 12 > 함수1 > 14 > 함수2 > 28"
   ]
  }
 ],
 "metadata": {
  "kernelspec": {
   "display_name": "Python 3 (ipykernel)",
   "language": "python",
   "name": "python3"
  },
  "language_info": {
   "codemirror_mode": {
    "name": "ipython",
    "version": 3
   },
   "file_extension": ".py",
   "mimetype": "text/x-python",
   "name": "python",
   "nbconvert_exporter": "python",
   "pygments_lexer": "ipython3",
   "version": "3.11.5"
  }
 },
 "nbformat": 4,
 "nbformat_minor": 5
}
