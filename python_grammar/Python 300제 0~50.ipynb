{
 "cells": [
  {
   "cell_type": "code",
   "execution_count": 1,
   "id": "7b97c795",
   "metadata": {},
   "outputs": [
    {
     "name": "stdout",
     "output_type": "stream",
     "text": [
      "Hello World\n"
     ]
    }
   ],
   "source": [
    "# 001 \n",
    "#화면에 Hello World 문자열을 출력하세요.\n",
    "\n",
    "print('Hello World')"
   ]
  },
  {
   "cell_type": "code",
   "execution_count": 2,
   "id": "4123882c",
   "metadata": {},
   "outputs": [
    {
     "name": "stdout",
     "output_type": "stream",
     "text": [
      "Mary's cosmetics\n"
     ]
    }
   ],
   "source": [
    "# 002 \n",
    "#화면에 Mary's cosmetics을 출력하세요. (중간에 '가 있음에 주의하세요)\n",
    "\n",
    "print(\"Mary's cosmetics\")"
   ]
  },
  {
   "cell_type": "code",
   "execution_count": 4,
   "id": "0e5a1f9e",
   "metadata": {},
   "outputs": [
    {
     "name": "stdout",
     "output_type": "stream",
     "text": [
      "신씨가 소리질렀다. \"도둑이야\".\n"
     ]
    }
   ],
   "source": [
    "# 003 \n",
    "#화면에 아래 문장을 출력하세요. (중간에 \"가 있음에 주의하세요.) \n",
    "# 신씨가 소리질렀다. \"도둑이야\".\n",
    "\n",
    "print('신씨가 소리질렀다. \"도둑이야\".')"
   ]
  },
  {
   "cell_type": "code",
   "execution_count": 5,
   "id": "738a6213",
   "metadata": {},
   "outputs": [
    {
     "name": "stdout",
     "output_type": "stream",
     "text": [
      "C:\\Windows\n"
     ]
    }
   ],
   "source": [
    "# 004 \n",
    "#화면에 C:\\Windows를 출력하세요.\n",
    "\n",
    "print('C:\\Windows')"
   ]
  },
  {
   "cell_type": "code",
   "execution_count": null,
   "id": "a812d16f",
   "metadata": {},
   "outputs": [],
   "source": [
    "# 005 \n",
    "#다음 코드를 실행해보고 \\t와 \\n의 역할을 설명해보세요.\n",
    "# print(\"안녕하세요.\\n만나서\\t\\t반갑습니다.\")\n",
    "\n",
    "# /t = tab       /n = 줄바꿈"
   ]
  },
  {
   "cell_type": "code",
   "execution_count": 7,
   "id": "637167d1",
   "metadata": {},
   "outputs": [],
   "source": [
    "# 006 \n",
    "#print 함수에 두 개의 단어를 입력한 예제입니다. 아래 코드의 출력 결과를 예상해봅시다.\n",
    "#print (\"오늘은\", \"일요일\")\n",
    "\n",
    "# 오늘은 일요일 출력"
   ]
  },
  {
   "cell_type": "code",
   "execution_count": 10,
   "id": "f0572474",
   "metadata": {},
   "outputs": [
    {
     "name": "stdout",
     "output_type": "stream",
     "text": [
      "naver;kakao;sk;samsung;\n"
     ]
    }
   ],
   "source": [
    "# 007 \n",
    "# print() 함수를 사용하여 다음과 같이 출력하세요.\n",
    "# naver;kakao;sk;samsung\n",
    "\n",
    "print('naver;kakao;sk;samsung;')"
   ]
  },
  {
   "cell_type": "code",
   "execution_count": 13,
   "id": "8541966b",
   "metadata": {},
   "outputs": [
    {
     "name": "stdout",
     "output_type": "stream",
     "text": [
      "naver/kakao/samsung\n"
     ]
    }
   ],
   "source": [
    "# 008 \n",
    "# print() 함수를 사용하여 다음과 같이 출력하세요.\n",
    "\n",
    "# naver/kakao/sk/samsung\n",
    "\n",
    "print('naver', 'kakao', 'samsung', sep='/')"
   ]
  },
  {
   "cell_type": "code",
   "execution_count": 14,
   "id": "a7a6f841",
   "metadata": {},
   "outputs": [
    {
     "name": "stdout",
     "output_type": "stream",
     "text": [
      "firstsecond\n"
     ]
    }
   ],
   "source": [
    "# 009 \n",
    "# 다음 코드를 수정하여 줄바꿈이 없이 출력하세요. (힌트: end='') print 함수는 두 번 사용합니다. 세미콜론 (;)은 한줄에 여러 개의 명령을 작성하기 위해 사용합니다.\n",
    "\n",
    "# print(\"first\");print(\"second\")\n",
    "\n",
    "print('first', end=''); print('second')"
   ]
  },
  {
   "cell_type": "code",
   "execution_count": 15,
   "id": "d9177e68",
   "metadata": {},
   "outputs": [
    {
     "name": "stdout",
     "output_type": "stream",
     "text": [
      "1.6666666666666667\n"
     ]
    }
   ],
   "source": [
    "# 010 \n",
    "# 5/3의 결과를 화면에 출력하세요.\n",
    "\n",
    "print (5/3)"
   ]
  },
  {
   "cell_type": "code",
   "execution_count": 18,
   "id": "eb999bc9",
   "metadata": {},
   "outputs": [
    {
     "name": "stdout",
     "output_type": "stream",
     "text": [
      "500000\n"
     ]
    }
   ],
   "source": [
    "# 011 \n",
    "# 삼성전자라는 변수로 50,000원을 바인딩해보세요. 삼성전자 주식 10주를 보유하고 있을 때 총 평가금액을 출력하세요.\n",
    "\n",
    "삼성전자 = 50000\n",
    "총평가금액 = 삼성전자 * 10\n",
    "print(총평가금액)"
   ]
  },
  {
   "cell_type": "code",
   "execution_count": 19,
   "id": "f252e5d5",
   "metadata": {},
   "outputs": [
    {
     "name": "stdout",
     "output_type": "stream",
     "text": [
      "298000000000000 <class 'int'>\n",
      "50000 <class 'int'>\n",
      "15.79 <class 'float'>\n"
     ]
    }
   ],
   "source": [
    "# 012\n",
    "# 다음 표는 삼성전자의 일부 투자정보입니다. 변수를 사용해서 시가총액, 현재가, PER 등을 바인딩해보세요.\n",
    "\n",
    "시가총액 = 298000000000000\n",
    "현재가 = 50000\n",
    "PER = 15.79\n",
    "print(시가총액, type(시가총액))\n",
    "print(현재가, type(현재가))\n",
    "print(PER, type(PER))"
   ]
  },
  {
   "cell_type": "code",
   "execution_count": 20,
   "id": "e49dad39",
   "metadata": {},
   "outputs": [
    {
     "name": "stdout",
     "output_type": "stream",
     "text": [
      "hello! python\n"
     ]
    }
   ],
   "source": [
    "# 013\n",
    "# 변수 s와 t에는 각각 문자열이 바인딩 되어있습니다.\n",
    "# s = \"hello\"\n",
    "# t = \"python\"\n",
    "\n",
    "s = \"hello\"\n",
    "t = \"python\"\n",
    "print(s+\"!\", t)"
   ]
  },
  {
   "cell_type": "code",
   "execution_count": 21,
   "id": "2f2a3659",
   "metadata": {},
   "outputs": [
    {
     "data": {
      "text/plain": [
       "8"
      ]
     },
     "execution_count": 21,
     "metadata": {},
     "output_type": "execute_result"
    }
   ],
   "source": [
    "# 014 \n",
    "# 아래 코드의 실행 결과를 예상해보세요.\n",
    "# 2 + 2 * 3 \n",
    "\n",
    "2+2*3"
   ]
  },
  {
   "cell_type": "code",
   "execution_count": 22,
   "id": "5eb9b636",
   "metadata": {},
   "outputs": [
    {
     "name": "stdout",
     "output_type": "stream",
     "text": [
      "<class 'str'>\n"
     ]
    }
   ],
   "source": [
    "# 015\n",
    "# type() 함수는 데이터 타입을 판별합니다. \n",
    "# a = \"132\"\n",
    "\n",
    "a = \"132\"\n",
    "print(type(a))"
   ]
  },
  {
   "cell_type": "code",
   "execution_count": 26,
   "id": "f95cc943",
   "metadata": {},
   "outputs": [
    {
     "data": {
      "text/plain": [
       "720"
      ]
     },
     "execution_count": 26,
     "metadata": {},
     "output_type": "execute_result"
    }
   ],
   "source": [
    "# 016\n",
    "# 문자열 '720'를 정수형으로 변환해보세요.\n",
    "\n",
    "a = str(720)  \n",
    "b = int(a)\n",
    "b"
   ]
  },
  {
   "cell_type": "code",
   "execution_count": 25,
   "id": "f1829be6",
   "metadata": {},
   "outputs": [
    {
     "data": {
      "text/plain": [
       "'100'"
      ]
     },
     "execution_count": 25,
     "metadata": {},
     "output_type": "execute_result"
    }
   ],
   "source": [
    "# 017\n",
    "# 정수 100을 문자열 '100'으로 변환해보세요.\n",
    "\n",
    "a= int(100)\n",
    "b = str(a)\n",
    "b"
   ]
  },
  {
   "cell_type": "code",
   "execution_count": 27,
   "id": "a4dc12f3",
   "metadata": {},
   "outputs": [
    {
     "data": {
      "text/plain": [
       "15.79"
      ]
     },
     "execution_count": 27,
     "metadata": {},
     "output_type": "execute_result"
    }
   ],
   "source": [
    "# 018\n",
    "# 문자열 \"15.79\"를 실수(float) 타입으로 변환해보세요.\n",
    "\n",
    "a = str(15.79)\n",
    "b = float(a)\n",
    "b"
   ]
  },
  {
   "cell_type": "code",
   "execution_count": 28,
   "id": "dc2bdef1",
   "metadata": {},
   "outputs": [
    {
     "data": {
      "text/plain": [
       "(2021, 2022, 2023)"
      ]
     },
     "execution_count": 28,
     "metadata": {},
     "output_type": "execute_result"
    }
   ],
   "source": [
    "# 019\n",
    "# year라는 변수가 문자열 타입의 연도를 바인딩하고 있습니다. 이를 정수로 변환한 후 최근 3년의 연도를 화면에 출력해보세요.\n",
    "\n",
    "year = str(2024)\n",
    "a = int(year)\n",
    "a-3, a-2, a-1\n"
   ]
  },
  {
   "cell_type": "code",
   "execution_count": 30,
   "id": "447860a9",
   "metadata": {},
   "outputs": [
    {
     "data": {
      "text/plain": [
       "1749024"
      ]
     },
     "execution_count": 30,
     "metadata": {},
     "output_type": "execute_result"
    }
   ],
   "source": [
    "# 020\n",
    "# 에이컨이 월 48,584원에 무이자 36개월의 조건으로 홈쇼핑에서 판매되고 있습니다. \n",
    "# 총 금액은 계산한 후 이를 화면에 출력해보세요. (변수사용하기)\n",
    "\n",
    "price = 48584\n",
    "month = 36\n",
    "price*month\n"
   ]
  },
  {
   "cell_type": "code",
   "execution_count": 31,
   "id": "fc3c7d72",
   "metadata": {},
   "outputs": [
    {
     "name": "stdout",
     "output_type": "stream",
     "text": [
      "p t\n"
     ]
    }
   ],
   "source": [
    "# 021 \n",
    "# 문자열 인덱싱\n",
    "# letters가 바인딩하는 문자열에서 첫번째와 세번째 문자를 출력하세요.\n",
    "\n",
    "a = 'python'\n",
    "print(a[0], a[2])"
   ]
  },
  {
   "cell_type": "code",
   "execution_count": 32,
   "id": "b946673f",
   "metadata": {},
   "outputs": [
    {
     "name": "stdout",
     "output_type": "stream",
     "text": [
      "2210\n"
     ]
    }
   ],
   "source": [
    "# 022 \n",
    "# 문자열 슬라이싱\n",
    "# 자동차 번호가 다음과 같을 때 뒤에 4자리만 출력하세요. \"24가 2210\"\n",
    "\n",
    "a = \"24가 2210\"\n",
    "print(a[-4:])"
   ]
  },
  {
   "cell_type": "code",
   "execution_count": 33,
   "id": "556fa7ce",
   "metadata": {},
   "outputs": [
    {
     "name": "stdout",
     "output_type": "stream",
     "text": [
      "홀홀홀\n"
     ]
    }
   ],
   "source": [
    "# 023 \n",
    "# 아래의 문자열에서 '홀' 만 출력하세요.\n",
    "# string = \"홀짝홀짝홀짝\"\n",
    "\n",
    "string = \"홀짝홀짝홀짝\"\n",
    "print(string[::2])"
   ]
  },
  {
   "cell_type": "code",
   "execution_count": 34,
   "id": "d5810aef",
   "metadata": {},
   "outputs": [
    {
     "name": "stdout",
     "output_type": "stream",
     "text": [
      "NOHTYP\n"
     ]
    }
   ],
   "source": [
    "# 024\n",
    "# 문자열을 거꾸로 뒤집어 출력하세요.\n",
    "# string = \"PYTHON\"\n",
    "\n",
    "string = \"PYTHON\"\n",
    "print(string[::-1])"
   ]
  },
  {
   "cell_type": "code",
   "execution_count": 35,
   "id": "78779656",
   "metadata": {},
   "outputs": [
    {
     "data": {
      "text/plain": [
       "'010 1111 2222'"
      ]
     },
     "execution_count": 35,
     "metadata": {},
     "output_type": "execute_result"
    }
   ],
   "source": [
    "# 025\n",
    "# 아래의 전화번호에서 하이푼 ('-')을 제거하고 출력하세요.\n",
    "# phone_number = \"010-1111-2222\"\n",
    "\n",
    "phone_number = \"010-1111-2222\"\n",
    "a = phone_number.replace(\"-\", \" \")\n",
    "a"
   ]
  },
  {
   "cell_type": "code",
   "execution_count": 38,
   "id": "f155644d",
   "metadata": {},
   "outputs": [
    {
     "data": {
      "text/plain": [
       "'010-1111-2222'"
      ]
     },
     "execution_count": 38,
     "metadata": {},
     "output_type": "execute_result"
    }
   ],
   "source": [
    "# 026\n",
    "# 25번 문제의 전화번호를 아래와 같이 모두 붙여 출력하세요.\n",
    "# a = 010 1111 2222\n",
    "b = a.replace(\" \", \"-\")\n",
    "b\n"
   ]
  },
  {
   "cell_type": "code",
   "execution_count": 39,
   "id": "1356d0bd",
   "metadata": {},
   "outputs": [
    {
     "data": {
      "text/plain": [
       "'kr'"
      ]
     },
     "execution_count": 39,
     "metadata": {},
     "output_type": "execute_result"
    }
   ],
   "source": [
    "# 027\n",
    "# url 에 저장된 웹 페이지 주소에서 도메인을 출력하세요.\n",
    "# url = \"http://sharebook.kr\"\n",
    "\n",
    "url = \"http://sharebook.kr\"\n",
    "a = url.split('.')[-1]\n",
    "a"
   ]
  },
  {
   "cell_type": "code",
   "execution_count": 43,
   "id": "9b824900",
   "metadata": {},
   "outputs": [
    {
     "ename": "TypeError",
     "evalue": "'str' object does not support item assignment",
     "output_type": "error",
     "traceback": [
      "\u001b[1;31m---------------------------------------------------------------------------\u001b[0m",
      "\u001b[1;31mTypeError\u001b[0m                                 Traceback (most recent call last)",
      "Cell \u001b[1;32mIn[43], line 5\u001b[0m\n\u001b[0;32m      1\u001b[0m \u001b[38;5;66;03m# 028\u001b[39;00m\n\u001b[0;32m      2\u001b[0m \u001b[38;5;66;03m# 아래 코드의 실행 결과를 예상해보세요.\u001b[39;00m\n\u001b[0;32m      4\u001b[0m lang \u001b[38;5;241m=\u001b[39m \u001b[38;5;124m'\u001b[39m\u001b[38;5;124mpython\u001b[39m\u001b[38;5;124m'\u001b[39m\n\u001b[1;32m----> 5\u001b[0m lang[\u001b[38;5;241m0\u001b[39m] \u001b[38;5;241m=\u001b[39m \u001b[38;5;124m'\u001b[39m\u001b[38;5;124mP\u001b[39m\u001b[38;5;124m'\u001b[39m\n\u001b[0;32m      6\u001b[0m \u001b[38;5;28mprint\u001b[39m(lang)\n",
      "\u001b[1;31mTypeError\u001b[0m: 'str' object does not support item assignment"
     ]
    }
   ],
   "source": [
    "# 028\n",
    "# 아래 코드의 실행 결과를 예상해보세요.\n",
    "\n",
    "lang = 'python'\n",
    "lang[0] = 'P'\n",
    "print(lang)"
   ]
  },
  {
   "cell_type": "code",
   "execution_count": 44,
   "id": "077c42eb",
   "metadata": {},
   "outputs": [
    {
     "name": "stdout",
     "output_type": "stream",
     "text": [
      "Abcdfe2A354A32A\n"
     ]
    }
   ],
   "source": [
    "# 029\n",
    "# replace 메서드\n",
    "# 아래 문자열에서 소문자 'a'를 대문자 'A'로 변경하세요.\n",
    "\n",
    "string = 'abcdfe2a354a32a'\n",
    "string = string.replace('a', 'A')\n",
    "print(string)\n",
    "\n"
   ]
  },
  {
   "cell_type": "code",
   "execution_count": 45,
   "id": "44165359",
   "metadata": {},
   "outputs": [
    {
     "name": "stdout",
     "output_type": "stream",
     "text": [
      "abcd\n"
     ]
    }
   ],
   "source": [
    "# 030\n",
    "# replace 메서드\n",
    "# 아래 코드의 실행 결과를 예상해보세요.\n",
    "\n",
    "string = 'abcd'\n",
    "string.replace('b', 'B')\n",
    "print(string)"
   ]
  },
  {
   "cell_type": "code",
   "execution_count": 46,
   "id": "bcdbd2b9",
   "metadata": {},
   "outputs": [
    {
     "name": "stdout",
     "output_type": "stream",
     "text": [
      "34\n"
     ]
    }
   ],
   "source": [
    "# 031\n",
    "# 문자열 합치기\n",
    "# 아래 코드의 실행 결과를 예상해보세요.\n",
    "\n",
    "a = \"3\"\n",
    "b = \"4\"\n",
    "print(a + b)"
   ]
  },
  {
   "cell_type": "code",
   "execution_count": 47,
   "id": "07eb18b8",
   "metadata": {},
   "outputs": [
    {
     "name": "stdout",
     "output_type": "stream",
     "text": [
      "HiHiHi\n"
     ]
    }
   ],
   "source": [
    "# 032\n",
    "# 문자열 곱하기\n",
    "# 아래 코드의 실행 결과를 예상해보세요.\n",
    "\n",
    "print(\"Hi\" * 3)"
   ]
  },
  {
   "cell_type": "code",
   "execution_count": 48,
   "id": "dd85b364",
   "metadata": {},
   "outputs": [
    {
     "name": "stdout",
     "output_type": "stream",
     "text": [
      "--------------------------------------------------------------------------------\n"
     ]
    }
   ],
   "source": [
    "# 033\n",
    "# 문자열 곱하기\n",
    "# 화면에 '-'를 80개 출력하세요.\n",
    "\n",
    "print(\"-\" * 80)"
   ]
  },
  {
   "cell_type": "code",
   "execution_count": 51,
   "id": "887d7b2a",
   "metadata": {},
   "outputs": [
    {
     "data": {
      "text/plain": [
       "'python java python java python java python java '"
      ]
     },
     "execution_count": 51,
     "metadata": {},
     "output_type": "execute_result"
    }
   ],
   "source": [
    "# 034\n",
    "# 문자열 곱하기\n",
    "# 변수에 다음과 같은 문자열이 바인딩되어 있습니다.\n",
    "\n",
    "t1 = 'python'\n",
    "t2 = 'java'\n",
    "\n",
    "# python java python java python java python java\n",
    "\n",
    "t1 = \"python\"\n",
    "t2 = \"java\"\n",
    "t3 = t1 + ' ' + t2 + ' '\n",
    "t3 * 4"
   ]
  },
  {
   "cell_type": "code",
   "execution_count": 53,
   "id": "543497d8",
   "metadata": {},
   "outputs": [
    {
     "name": "stdout",
     "output_type": "stream",
     "text": [
      "이름: 김민수 나이: 10\n",
      "이름: 이철희 나이: 13\n"
     ]
    }
   ],
   "source": [
    "# 035\n",
    "# 변수에 다음과 같이 문자열과 정수가 바인딩되어 있을 때 % formatting을 사용해서 다음과 같이 출력해보세요.\n",
    "\n",
    "name1 = \"김민수\" \n",
    "age1 = 10\n",
    "name2 = \"이철희\"\n",
    "age2 = 13\n",
    "\n",
    "print(\"이름: %s 나이: %d\" % (name1, age1))\n",
    "print(\"이름: %s 나이: %d\" % (name2, age2))"
   ]
  },
  {
   "cell_type": "code",
   "execution_count": 55,
   "id": "a7220a03",
   "metadata": {},
   "outputs": [
    {
     "name": "stdout",
     "output_type": "stream",
     "text": [
      "이름: 김민수 나이: 10\n",
      "이름: 이철희 나이: 13\n"
     ]
    }
   ],
   "source": [
    "# 036\n",
    "#문자열의 format( ) 메서드를 사용해서 035번 문제를 다시 풀어보세요.\n",
    "\n",
    "print(\"이름: {} 나이: {}\".format(name1, age1))\n",
    "print(\"이름: {} 나이: {}\".format(name2, age2))"
   ]
  },
  {
   "cell_type": "code",
   "execution_count": 56,
   "id": "7d2c71f4",
   "metadata": {},
   "outputs": [
    {
     "name": "stdout",
     "output_type": "stream",
     "text": [
      "이름: 김민수 나이: 10\n",
      "이름: 이철희 나이: 13\n"
     ]
    }
   ],
   "source": [
    "# 037\n",
    "# 파이썬 3.6부터 지원하는 f-string을 사용해서 035번 문제를 다시 풀어보세요.\n",
    "\n",
    "print(f\"이름: {name1} 나이: {age1}\")\n",
    "print(f\"이름: {name2} 나이: {age2}\")"
   ]
  },
  {
   "cell_type": "code",
   "execution_count": 67,
   "id": "8e8788d7",
   "metadata": {},
   "outputs": [
    {
     "data": {
      "text/plain": [
       "5969782550"
      ]
     },
     "execution_count": 67,
     "metadata": {},
     "output_type": "execute_result"
    }
   ],
   "source": [
    "# 038\n",
    "# 삼성전자의 상장주식수가 다음과 같습니다. 컴마를 제거한 후 이를 정수 타입으로 변환해보세요.\n",
    "\n",
    "# 상장주식수 = \"5,969,782,550\"\n",
    "# counta=5,969,782,550\n",
    "# countb=counta.replace(',', ' ')\n",
    "# countc=int(countb)\n",
    "\n",
    "# countc\n",
    "\n",
    "counta = \"5,969,782,550\"\n",
    "countb = counta.replace(',', '')  # 쉼표를 빈 문자열로 대체\n",
    "countc = int(countb)\n",
    "\n",
    "countc"
   ]
  },
  {
   "cell_type": "code",
   "execution_count": 68,
   "id": "598c2188",
   "metadata": {},
   "outputs": [
    {
     "name": "stdout",
     "output_type": "stream",
     "text": [
      "2020/03\n"
     ]
    }
   ],
   "source": [
    "# 039\n",
    "# 다음과 같은 문자열에서 '2020/03'만 출력하세요.\n",
    "# 분기 = \"2020/03(E) (IFRS연결)\"\n",
    "\n",
    "분기 = \"2020/03(E) (IFRS연결)\"\n",
    "print(분기[:7])\n"
   ]
  },
  {
   "cell_type": "code",
   "execution_count": 69,
   "id": "b75cb696",
   "metadata": {},
   "outputs": [
    {
     "name": "stdout",
     "output_type": "stream",
     "text": [
      "삼성전자\n"
     ]
    }
   ],
   "source": [
    "# 040\n",
    "# 문자열의 좌우의 공백이 있을 때 이를 제거해보세요.\n",
    "# data = \"   삼성전자    \"\n",
    "\n",
    "data = \"   삼성전자    \"\n",
    "data1 = data.strip()\n",
    "print(data1)"
   ]
  },
  {
   "cell_type": "code",
   "execution_count": 72,
   "id": "1a0904e5",
   "metadata": {},
   "outputs": [
    {
     "data": {
      "text/plain": [
       "'btc_krw'"
      ]
     },
     "execution_count": 72,
     "metadata": {},
     "output_type": "execute_result"
    }
   ],
   "source": [
    "# 041 \n",
    "# 다음과 같은 문자열이 있을 때 이를 대문자 BTC_KRW로 변경하세요.\n",
    "# ticker = \"btc_krw\"\n",
    "\n",
    "ticker = \"btc_krw\"\n",
    "a = ticker.lower()\n",
    "a\n"
   ]
  },
  {
   "cell_type": "code",
   "execution_count": 76,
   "id": "dc38b35c",
   "metadata": {},
   "outputs": [
    {
     "data": {
      "text/plain": [
       "'HELLO'"
      ]
     },
     "execution_count": 76,
     "metadata": {},
     "output_type": "execute_result"
    }
   ],
   "source": [
    "# 042\n",
    "# 문자열 'hello'가 있을 때 이를 'Hello'로 변경해보세요.\n",
    "\n",
    "qqq = 'hello'\n",
    "a = qqq.upper()\n",
    "a"
   ]
  },
  {
   "cell_type": "code",
   "execution_count": 84,
   "id": "880a23ab",
   "metadata": {},
   "outputs": [
    {
     "data": {
      "text/plain": [
       "True"
      ]
     },
     "execution_count": 84,
     "metadata": {},
     "output_type": "execute_result"
    }
   ],
   "source": [
    "# 043\n",
    "# 파일 이름이 문자열로 저장되어 있을 때 endswith 메서드를 사용해서 파일 이름이 'xlsx'로 끝나는지 확인해보세요.\n",
    "# file_name = \"보고서.xlsx\"\n",
    "\n",
    "file_name = \"보고서.xlsx\"\n",
    "file_name.endswith(\"xlsx\")"
   ]
  },
  {
   "cell_type": "code",
   "execution_count": 85,
   "id": "f391530d",
   "metadata": {},
   "outputs": [
    {
     "data": {
      "text/plain": [
       "'BTC_KRW'"
      ]
     },
     "execution_count": 85,
     "metadata": {},
     "output_type": "execute_result"
    }
   ],
   "source": [
    "# 044\n",
    "# 다음과 같은 문자열이 있을 때 이를 대문자 BTC_KRW로 변경하세요.\n",
    "# ticker = \"btc_krw\"\n",
    "\n",
    "ticker = \"btc_krw\"\n",
    "a = ticker.upper()\n",
    "a"
   ]
  },
  {
   "cell_type": "code",
   "execution_count": 86,
   "id": "6e7e33ee",
   "metadata": {},
   "outputs": [
    {
     "data": {
      "text/plain": [
       "True"
      ]
     },
     "execution_count": 86,
     "metadata": {},
     "output_type": "execute_result"
    }
   ],
   "source": [
    "# 045\n",
    "# 파일 이름이 문자열로 저장되어 있을 때 endswith 메서드를 사용해서 파일 이름이 'xlsx' 또는 'xls'로 끝나는지 확인해보세요.\n",
    "\n",
    "file_name = \"보고서.xlsx\"\n",
    "file_name.endswith((\"xlsx\", \"xls\"))"
   ]
  },
  {
   "cell_type": "code",
   "execution_count": 87,
   "id": "4376b6ae",
   "metadata": {},
   "outputs": [
    {
     "data": {
      "text/plain": [
       "True"
      ]
     },
     "execution_count": 87,
     "metadata": {},
     "output_type": "execute_result"
    }
   ],
   "source": [
    "# 046\n",
    "# 파일 이름이 문자열로 저장되어 있을 때 startswith 메서드를 사용해서 파일 이름이 '2020'로 시작하는지 확인해보세요.\n",
    "\n",
    "file_name = \"2020_보고서.xlsx\"\n",
    "file_name.startswith(\"2020\")"
   ]
  },
  {
   "cell_type": "code",
   "execution_count": 88,
   "id": "6f2033fd",
   "metadata": {},
   "outputs": [
    {
     "data": {
      "text/plain": [
       "['hello', 'world']"
      ]
     },
     "execution_count": 88,
     "metadata": {},
     "output_type": "execute_result"
    }
   ],
   "source": [
    "# 047\n",
    "# 다음과 같은 문자열이 있을 때 공백을 기준으로 문자열을 나눠보세요.\n",
    "# a = \"hello world\"\n",
    "\n",
    "a = \"hello world\"\n",
    "a.split()"
   ]
  },
  {
   "cell_type": "code",
   "execution_count": 89,
   "id": "4cd125cc",
   "metadata": {},
   "outputs": [
    {
     "data": {
      "text/plain": [
       "['btc', 'krw']"
      ]
     },
     "execution_count": 89,
     "metadata": {},
     "output_type": "execute_result"
    }
   ],
   "source": [
    "# 048\n",
    "# 다음과 같이 문자열이 있을 때 btc와 krw로 나눠보세요.\n",
    "# ticker = \"btc_krw\"\n",
    "\n",
    "ticker = \"btc_krw\"\n",
    "ticker.split(\"_\")"
   ]
  },
  {
   "cell_type": "code",
   "execution_count": 90,
   "id": "98386886",
   "metadata": {},
   "outputs": [
    {
     "data": {
      "text/plain": [
       "['2020', '05', '01']"
      ]
     },
     "execution_count": 90,
     "metadata": {},
     "output_type": "execute_result"
    }
   ],
   "source": [
    "# 049\n",
    "# 다음과 같이 날짜를 표현하는 문자열이 있을 때 연도, 월, 일로 나눠보세요.\n",
    "\n",
    "date = \"2020-05-01\"\n",
    "date.split(\"-\")"
   ]
  },
  {
   "cell_type": "code",
   "execution_count": 95,
   "id": "2b5deff7",
   "metadata": {},
   "outputs": [],
   "source": [
    "# 050\n",
    "\n",
    "# 문자열의 오른쪽에 공백이 있을 때 이를 제거해보세요.\n",
    "# data = \"039490     \"\n",
    "\n",
    "data = \"039490     \"\n",
    "data = data.rstrip()"
   ]
  }
 ],
 "metadata": {
  "kernelspec": {
   "display_name": "Python 3 (ipykernel)",
   "language": "python",
   "name": "python3"
  },
  "language_info": {
   "codemirror_mode": {
    "name": "ipython",
    "version": 3
   },
   "file_extension": ".py",
   "mimetype": "text/x-python",
   "name": "python",
   "nbconvert_exporter": "python",
   "pygments_lexer": "ipython3",
   "version": "3.11.5"
  }
 },
 "nbformat": 4,
 "nbformat_minor": 5
}
