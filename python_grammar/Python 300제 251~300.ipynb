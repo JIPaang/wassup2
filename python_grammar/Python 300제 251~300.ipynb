{
 "cells": [
  {
   "cell_type": "code",
   "execution_count": null,
   "id": "3264c664",
   "metadata": {},
   "outputs": [],
   "source": [
    "# 251 \n",
    "# 클래스와 객체에 대해 설명해봅시다.\n",
    "\n",
    "# 클래스는 객체를 생성하기 위한 틀이고, 객체는 클래스로부터 생성된 실체이다.\n",
    "\n",
    "# 가령 자동차 클래스를 보자면, 속성으로 브랜드, 모델, 생상 등을 가지고 있고\n",
    "# 주행, 멈춤, 경적 등의 매서드를 정의할 수 있다.\n",
    "\n",
    "# 객체는 자동차 클래스에서 주행, 멈춤, 경적 등의 행동을 할 수 있다. "
   ]
  },
  {
   "cell_type": "code",
   "execution_count": null,
   "id": "24db1b38",
   "metadata": {},
   "outputs": [],
   "source": [
    "# 252 \n",
    "# 비어있는 사람 (Human) 클래스를 \"정의\" 해보세요.\n",
    "\n",
    "class Human:\n",
    "    pass"
   ]
  },
  {
   "cell_type": "code",
   "execution_count": 2,
   "id": "70b5ac69",
   "metadata": {},
   "outputs": [],
   "source": [
    "# 253\n",
    "# 인스턴스 생성\n",
    "# 사람 (Human) 클래스의 인스턴스를 \"생성\" 하고 이를 areum 변수로 바인딩해보세요.\n",
    "\n",
    "class Human:\n",
    "    pass\n",
    "\n",
    "areum = Human()"
   ]
  },
  {
   "cell_type": "code",
   "execution_count": 3,
   "id": "e890ca57",
   "metadata": {},
   "outputs": [
    {
     "name": "stdout",
     "output_type": "stream",
     "text": [
      "응애응애\n"
     ]
    }
   ],
   "source": [
    "# 254 클래스 생성자-1\n",
    "# 사람 (Human) 클래스에 \"응애응애\"를 출력하는 생성자를 추가하세요.\n",
    "\n",
    "class Human:\n",
    "    def __init__(self):\n",
    "        print(\"응애응애\")\n",
    "\n",
    "areum = Human()"
   ]
  },
  {
   "cell_type": "code",
   "execution_count": null,
   "id": "4188e3e4",
   "metadata": {},
   "outputs": [],
   "source": [
    "# 255\n",
    "# 클래스 생성자-2\n",
    "# 사람 (Human) 클래스에 (이름, 나이, 성별)을 받는 생성자를 추가하세요.\n",
    "\n",
    "class Human:\n",
    "    def __init__(self, name, age, sex):\n",
    "        self.name = name\n",
    "        self.age = age\n",
    "        self.sex = sex\n",
    "\n",
    "areum = Human(\"아름\", 25, \"여자\")\n",
    "print(areum.name)\n"
   ]
  },
  {
   "cell_type": "code",
   "execution_count": null,
   "id": "1ce9c855",
   "metadata": {},
   "outputs": [],
   "source": [
    "# 256\n",
    "# 인스턴스 속성에 접근\n",
    "# 255에서 생성한 인스턴스의 이름, 나이, 성별을 출력하세요. \n",
    "# 인스턴스 변수에 접근하여 값을 출력하면 됩니다.\n",
    "\n",
    "# 이름: 조아름, 나이: 25, 성별: 여자"
   ]
  },
  {
   "cell_type": "code",
   "execution_count": null,
   "id": "09917d17",
   "metadata": {},
   "outputs": [],
   "source": [
    "# 257\n",
    "# 클래스 메소드 - 1\n",
    "# 사람 (Human) 클래스에서 이름, 나이, 성별을 출력하는 who() 메소드를 추가하세요.\n",
    "\n",
    "# areum.who()\n",
    "# 이름: 조아름, 나이: 25, 성별: 여자\n",
    "\n",
    "class Human:\n",
    "    def __init__(self, name, age, gender):\n",
    "        self.name = name\n",
    "        self.age = age\n",
    "        self.gender = gender\n",
    "\n",
    "    def who(self):\n",
    "        print(f\"이름: {self.name}, 나이: {self.age}, 성별: {self.gender}\")\n",
    "\n",
    "areum = Human(\"조아름\", 25, \"여자\")\n",
    "areum.who()"
   ]
  },
  {
   "cell_type": "code",
   "execution_count": null,
   "id": "1c669b2c",
   "metadata": {},
   "outputs": [],
   "source": [
    "# 258\n",
    "# 사람 (Human) 클래스에 (이름, 나이, 성별)을 받는 setInfo 메소드를 추가하세요.\n",
    "\n",
    "# areum = Human(\"모름\", 0, \"모름\")\n",
    "# areum.setInfo(\"아름\", 25, \"여자\")\n",
    "\n",
    "class Human:\n",
    "    def __init__(self, name, age, gender):\n",
    "        self.name = name\n",
    "        self.age = age\n",
    "        self.gender = gender\n",
    "\n",
    "    def who(self):\n",
    "        print(f\"이름: {self.name}, 나이: {self.age}, 성별: {self.gender}\")\n",
    "\n",
    "    def setInfo(self, name, age, gender):\n",
    "        self.name = name\n",
    "        self.age = age\n",
    "        self.gender = gender\n",
    "\n",
    "areum = Human(\"모름\", 0, \"모름\")\n",
    "areum.who()  # 초기 상태 출력\n",
    "\n",
    "areum.setInfo(\"아름\", 25, \"여자\")"
   ]
  },
  {
   "cell_type": "code",
   "execution_count": null,
   "id": "6222eb43",
   "metadata": {},
   "outputs": [],
   "source": [
    "# 259 \n",
    "# 사람 (human) 클래스에 \"나의 죽음을 알리지 말라\"를 출력하는 소멸자를 추가하세요.\n",
    "\n",
    "# >>> areum = Human(\"아름\", 25, \"여자\")\n",
    "# >>> del areum\n",
    "# 나의 죽음을 알리지 말라\n",
    "class Human:\n",
    "    def __init__(self, name, age, gender):\n",
    "        self.name = name\n",
    "        self.age = age\n",
    "        self.gender = gender\n",
    "\n",
    "    def who(self):\n",
    "        print(f\"이름: {self.name}, 나이: {self.age}, 성별: {self.gender}\")\n",
    "\n",
    "    def setInfo(self, name, age, gender):\n",
    "        self.name = name\n",
    "        self.age = age\n",
    "        self.gender = gender\n",
    "\n",
    "    def __del__(self):\n",
    "        print(\"나의 죽음을 알리지 말라\")\n",
    "\n",
    "areum = Human(\"아름\", 25, \"여자\")\n",
    "\n",
    "del areum"
   ]
  },
  {
   "cell_type": "code",
   "execution_count": null,
   "id": "03950979",
   "metadata": {},
   "outputs": [],
   "source": [
    "# 260 \n",
    "# 아래와 같은 에러가 발생한 원인에 대해 설명하세요.\n",
    "\n",
    "# class OMG : \n",
    "#     def print() :\n",
    "#         print(\"Oh my god\")\n",
    "\n",
    "# >>> >>> myStock = OMG()\n",
    "# >>> myStock.print()\n",
    "# TypeError Traceback (most recent call last)\n",
    "# <ipython-input-233-c85c04535b22> in <module>()\n",
    "# ----> myStock.print()\n",
    "\n",
    "# TypeError: print() takes 0 positional arguments but 1 was given\n",
    "\n",
    "# print 가 self 매개변수 없이 정의되어 있음"
   ]
  },
  {
   "cell_type": "code",
   "execution_count": null,
   "id": "d331784e",
   "metadata": {},
   "outputs": [],
   "source": [
    "# 260\n",
    "# Stock 클래스 생성\n",
    "# 주식 종목에 대한 정보를 저장하는 Stock 클래스를 정의해보세요. \n",
    "# 클래스는 속성과 메서드를 갖고 있지 않습니다.\n",
    "\n",
    "class Stock:\n",
    "    pass"
   ]
  },
  {
   "cell_type": "code",
   "execution_count": null,
   "id": "75fb9e74",
   "metadata": {},
   "outputs": [],
   "source": [
    "# 261\n",
    "# Stock 클래스의 객체가 생성될 때 종목명과 종목코드를 입력 받을 수 있도록 \n",
    "# 생성자를 정의해보세요.\n",
    "\n",
    "# 삼성 = Stock(\"삼성전자\", \"005930\")\n",
    "\n",
    "class Stock:\n",
    "    def __init__(self, name, code):\n",
    "        self.name = name\n",
    "        self.code = code\n",
    "\n",
    "삼성 = Stock(\"삼성전자\", \"005930\")\n",
    "print(삼성.name)\n",
    "print(삼성.code)"
   ]
  },
  {
   "cell_type": "code",
   "execution_count": null,
   "id": "6b8ae09e",
   "metadata": {},
   "outputs": [],
   "source": [
    "# 262"
   ]
  },
  {
   "cell_type": "code",
   "execution_count": null,
   "id": "b9372753",
   "metadata": {},
   "outputs": [],
   "source": [
    "# 263"
   ]
  },
  {
   "cell_type": "code",
   "execution_count": null,
   "id": "732aab71",
   "metadata": {},
   "outputs": [],
   "source": [
    "# 264"
   ]
  },
  {
   "cell_type": "code",
   "execution_count": null,
   "id": "3ffb1d18",
   "metadata": {},
   "outputs": [],
   "source": [
    "# 265"
   ]
  },
  {
   "cell_type": "code",
   "execution_count": null,
   "id": "1b8111e6",
   "metadata": {},
   "outputs": [],
   "source": [
    "# 266"
   ]
  },
  {
   "cell_type": "code",
   "execution_count": null,
   "id": "7392f5c2",
   "metadata": {},
   "outputs": [],
   "source": [
    "# 267"
   ]
  },
  {
   "cell_type": "code",
   "execution_count": null,
   "id": "3a72539a",
   "metadata": {},
   "outputs": [],
   "source": [
    "# 268"
   ]
  },
  {
   "cell_type": "code",
   "execution_count": null,
   "id": "37ff9964",
   "metadata": {},
   "outputs": [],
   "source": [
    "# 269"
   ]
  },
  {
   "cell_type": "code",
   "execution_count": null,
   "id": "77e9e43b",
   "metadata": {},
   "outputs": [],
   "source": [
    "# 270"
   ]
  },
  {
   "cell_type": "code",
   "execution_count": null,
   "id": "3929614c",
   "metadata": {},
   "outputs": [],
   "source": [
    "# 271"
   ]
  },
  {
   "cell_type": "code",
   "execution_count": null,
   "id": "e90ad166",
   "metadata": {},
   "outputs": [],
   "source": [
    "# 272"
   ]
  },
  {
   "cell_type": "code",
   "execution_count": null,
   "id": "84fc1d10",
   "metadata": {},
   "outputs": [],
   "source": [
    "# 273"
   ]
  },
  {
   "cell_type": "code",
   "execution_count": null,
   "id": "740904c3",
   "metadata": {},
   "outputs": [],
   "source": [
    "# 274"
   ]
  },
  {
   "cell_type": "code",
   "execution_count": null,
   "id": "84beb12d",
   "metadata": {},
   "outputs": [],
   "source": [
    "# 275"
   ]
  },
  {
   "cell_type": "code",
   "execution_count": null,
   "id": "e80f73d0",
   "metadata": {},
   "outputs": [],
   "source": [
    "# 276"
   ]
  },
  {
   "cell_type": "code",
   "execution_count": null,
   "id": "5191a4d5",
   "metadata": {},
   "outputs": [],
   "source": [
    "# 277"
   ]
  },
  {
   "cell_type": "code",
   "execution_count": null,
   "id": "e9cdc697",
   "metadata": {},
   "outputs": [],
   "source": [
    "# 278"
   ]
  },
  {
   "cell_type": "code",
   "execution_count": null,
   "id": "a8150ef9",
   "metadata": {},
   "outputs": [],
   "source": [
    "# 279"
   ]
  },
  {
   "cell_type": "code",
   "execution_count": null,
   "id": "e6d40512",
   "metadata": {},
   "outputs": [],
   "source": [
    "# 280"
   ]
  },
  {
   "cell_type": "code",
   "execution_count": null,
   "id": "be6db708",
   "metadata": {},
   "outputs": [],
   "source": [
    "# 281"
   ]
  },
  {
   "cell_type": "code",
   "execution_count": null,
   "id": "f9a5124f",
   "metadata": {},
   "outputs": [],
   "source": [
    "# 282"
   ]
  },
  {
   "cell_type": "code",
   "execution_count": null,
   "id": "184d76cc",
   "metadata": {},
   "outputs": [],
   "source": [
    "# 283"
   ]
  },
  {
   "cell_type": "code",
   "execution_count": null,
   "id": "19bc7b07",
   "metadata": {},
   "outputs": [],
   "source": [
    "# 284"
   ]
  },
  {
   "cell_type": "code",
   "execution_count": null,
   "id": "3ec235f7",
   "metadata": {},
   "outputs": [],
   "source": [
    "# 285"
   ]
  },
  {
   "cell_type": "code",
   "execution_count": null,
   "id": "a5cc1bb9",
   "metadata": {},
   "outputs": [],
   "source": [
    "# 286"
   ]
  },
  {
   "cell_type": "code",
   "execution_count": null,
   "id": "fb340f92",
   "metadata": {},
   "outputs": [],
   "source": [
    "# 287"
   ]
  },
  {
   "cell_type": "code",
   "execution_count": null,
   "id": "dc338312",
   "metadata": {},
   "outputs": [],
   "source": [
    "# 288"
   ]
  },
  {
   "cell_type": "code",
   "execution_count": null,
   "id": "341d6df1",
   "metadata": {},
   "outputs": [],
   "source": [
    "# 289"
   ]
  },
  {
   "cell_type": "code",
   "execution_count": null,
   "id": "b5d65468",
   "metadata": {},
   "outputs": [],
   "source": [
    "# 290"
   ]
  },
  {
   "cell_type": "code",
   "execution_count": null,
   "id": "8e034cb7",
   "metadata": {},
   "outputs": [],
   "source": [
    "# 291"
   ]
  },
  {
   "cell_type": "code",
   "execution_count": null,
   "id": "6ae4f5e2",
   "metadata": {},
   "outputs": [],
   "source": [
    "# 292"
   ]
  },
  {
   "cell_type": "code",
   "execution_count": null,
   "id": "26b382ad",
   "metadata": {},
   "outputs": [],
   "source": [
    "# 293"
   ]
  },
  {
   "cell_type": "code",
   "execution_count": null,
   "id": "079fe7a6",
   "metadata": {},
   "outputs": [],
   "source": [
    "# 294"
   ]
  },
  {
   "cell_type": "code",
   "execution_count": null,
   "id": "3c118320",
   "metadata": {},
   "outputs": [],
   "source": [
    "# 295"
   ]
  },
  {
   "cell_type": "code",
   "execution_count": null,
   "id": "2a1530e6",
   "metadata": {},
   "outputs": [],
   "source": [
    "# 296"
   ]
  },
  {
   "cell_type": "code",
   "execution_count": null,
   "id": "61fa72fa",
   "metadata": {},
   "outputs": [],
   "source": [
    "# 297"
   ]
  },
  {
   "cell_type": "code",
   "execution_count": null,
   "id": "fac63f45",
   "metadata": {},
   "outputs": [],
   "source": [
    "# 298"
   ]
  },
  {
   "cell_type": "code",
   "execution_count": null,
   "id": "2279e650",
   "metadata": {},
   "outputs": [],
   "source": [
    "# 299"
   ]
  },
  {
   "cell_type": "code",
   "execution_count": null,
   "id": "7381fb83",
   "metadata": {},
   "outputs": [],
   "source": [
    "# 300"
   ]
  }
 ],
 "metadata": {
  "kernelspec": {
   "display_name": "Python 3 (ipykernel)",
   "language": "python",
   "name": "python3"
  },
  "language_info": {
   "codemirror_mode": {
    "name": "ipython",
    "version": 3
   },
   "file_extension": ".py",
   "mimetype": "text/x-python",
   "name": "python",
   "nbconvert_exporter": "python",
   "pygments_lexer": "ipython3",
   "version": "3.11.5"
  }
 },
 "nbformat": 4,
 "nbformat_minor": 5
}
